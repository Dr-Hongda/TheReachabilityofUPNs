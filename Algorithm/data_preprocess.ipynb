{
 "cells": [
  {
   "cell_type": "code",
   "execution_count": 1,
   "metadata": {},
   "outputs": [],
   "source": [
    "import pandas as pd\n",
    "import sys\n",
    "sys.path.append(\"..\")"
   ]
  },
  {
   "cell_type": "code",
   "execution_count": 2,
   "metadata": {},
   "outputs": [],
   "source": [
    "IO=\"../data/1place-independence.xlsx\"\n",
    "data_pos = pd.read_excel(io = IO)\n",
    "data_pos.to_csv('../data/1place-independence.csv',index=False)\n",
    "\n",
    "IO=\"../data/w-independence.xlsx\"\n",
    "data_pos = pd.read_excel(io = IO)\n",
    "data_pos.to_csv('../data/w-independence.csv',index=False)\n",
    "\n",
    "IO=\"../data/w-related.xlsx\"\n",
    "data_pos = pd.read_excel(io = IO)\n",
    "data_pos.to_csv('../data/w-related.csv',index=False)"
   ]
  }
 ],
 "metadata": {
  "kernelspec": {
   "display_name": "Python 3",
   "language": "python",
   "name": "python3"
  },
  "language_info": {
   "codemirror_mode": {
    "name": "ipython",
    "version": 3
   },
   "file_extension": ".py",
   "mimetype": "text/x-python",
   "name": "python",
   "nbconvert_exporter": "python",
   "pygments_lexer": "ipython3",
   "version": "3.7.9"
  }
 },
 "nbformat": 4,
 "nbformat_minor": 4
}
