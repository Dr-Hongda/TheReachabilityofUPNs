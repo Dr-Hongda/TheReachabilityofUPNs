{
 "cells": [
  {
   "cell_type": "code",
   "execution_count": 1,
   "metadata": {},
   "outputs": [],
   "source": [
    "import time\n",
    "import sklearn\n",
    "import numpy as np\n",
    "import pandas as pd\n",
    "\n",
    "from sklearn.utils import resample\n",
    "\n",
    "import sys\n",
    "sys.path.append(\"..\")\n",
    "from baggingPU import BaggingClassifierPU\n",
    "\n",
    "from sklearn.model_selection import train_test_split\n",
    "from sklearn.metrics import accuracy_score, precision_score, recall_score, f1_score"
   ]
  },
  {
   "cell_type": "code",
   "execution_count": 2,
   "metadata": {},
   "outputs": [],
   "source": [
    "def print_cm(cm, labels, hide_zeroes=False, hide_diagonal=False, hide_threshold=None):\n",
    "    columnwidth = max([len(x) for x in labels]) + 4\n",
    "    empty_cell = \" \" * columnwidth\n",
    "    print(\"    \" + empty_cell, end=' ')\n",
    "    for label in labels:\n",
    "        print(\"%{0}s\".format(columnwidth) % 'pred_' + label, end=\" \")\n",
    "    print()\n",
    "\n",
    "    for i, label1 in enumerate(labels):\n",
    "        print(\"    %{0}s\".format(columnwidth) % 'true_' + label1, end=\" \")\n",
    "        for j in range(len(labels)):\n",
    "            cell = \"%{0}.1f\".format(columnwidth) % cm[i, j]\n",
    "            if hide_zeroes:\n",
    "                cell = cell if float(cm[i, j]) != 0 else empty_cell\n",
    "            if hide_diagonal:\n",
    "                cell = cell if i != j else empty_cell\n",
    "            if hide_threshold:\n",
    "                cell = cell if cm[i, j] > hide_threshold else empty_cell\n",
    "            if cell:\n",
    "                print(cell, end=\" \")\n",
    "        print()"
   ]
  },
  {
   "cell_type": "markdown",
   "metadata": {},
   "source": [
    "# import data"
   ]
  },
  {
   "cell_type": "code",
   "execution_count": 3,
   "metadata": {},
   "outputs": [
    {
     "name": "stdout",
     "output_type": "stream",
     "text": [
      "0    10000\n",
      "1    10000\n",
      "Name: label, dtype: int64\n",
      "Has null values False\n"
     ]
    }
   ],
   "source": [
    "#df_raw = pd.read_csv('../data/w-dependence.csv')\n",
    "\n",
    "df_raw = pd.read_csv('../data/1place-independence.csv')\n",
    "\n",
    "#df_raw = pd.read_csv('../data/w-related.csv')\n",
    "\n",
    "\n",
    "df_raw['label'] = df_raw['label'].astype(\"int\")\n",
    "print(df_raw.label.value_counts())\n",
    "print('Has null values', df_raw.isnull().values.any())"
   ]
  },
  {
   "cell_type": "code",
   "execution_count": 4,
   "metadata": {},
   "outputs": [
    {
     "data": {
      "text/html": [
       "<div>\n",
       "<style scoped>\n",
       "    .dataframe tbody tr th:only-of-type {\n",
       "        vertical-align: middle;\n",
       "    }\n",
       "\n",
       "    .dataframe tbody tr th {\n",
       "        vertical-align: top;\n",
       "    }\n",
       "\n",
       "    .dataframe thead th {\n",
       "        text-align: right;\n",
       "    }\n",
       "</style>\n",
       "<table border=\"1\" class=\"dataframe\">\n",
       "  <thead>\n",
       "    <tr style=\"text-align: right;\">\n",
       "      <th></th>\n",
       "      <th>p1</th>\n",
       "      <th>p2</th>\n",
       "      <th>p3</th>\n",
       "      <th>p4</th>\n",
       "      <th>label</th>\n",
       "    </tr>\n",
       "  </thead>\n",
       "  <tbody>\n",
       "    <tr>\n",
       "      <th>0</th>\n",
       "      <td>1</td>\n",
       "      <td>0</td>\n",
       "      <td>0</td>\n",
       "      <td>0</td>\n",
       "      <td>1</td>\n",
       "    </tr>\n",
       "    <tr>\n",
       "      <th>1</th>\n",
       "      <td>0</td>\n",
       "      <td>1</td>\n",
       "      <td>1</td>\n",
       "      <td>0</td>\n",
       "      <td>1</td>\n",
       "    </tr>\n",
       "    <tr>\n",
       "      <th>2</th>\n",
       "      <td>1</td>\n",
       "      <td>0</td>\n",
       "      <td>1</td>\n",
       "      <td>0</td>\n",
       "      <td>1</td>\n",
       "    </tr>\n",
       "    <tr>\n",
       "      <th>3</th>\n",
       "      <td>0</td>\n",
       "      <td>0</td>\n",
       "      <td>0</td>\n",
       "      <td>1</td>\n",
       "      <td>1</td>\n",
       "    </tr>\n",
       "    <tr>\n",
       "      <th>4</th>\n",
       "      <td>0</td>\n",
       "      <td>1</td>\n",
       "      <td>2</td>\n",
       "      <td>0</td>\n",
       "      <td>1</td>\n",
       "    </tr>\n",
       "    <tr>\n",
       "      <th>5</th>\n",
       "      <td>1</td>\n",
       "      <td>0</td>\n",
       "      <td>2</td>\n",
       "      <td>0</td>\n",
       "      <td>1</td>\n",
       "    </tr>\n",
       "    <tr>\n",
       "      <th>6</th>\n",
       "      <td>0</td>\n",
       "      <td>0</td>\n",
       "      <td>1</td>\n",
       "      <td>1</td>\n",
       "      <td>1</td>\n",
       "    </tr>\n",
       "    <tr>\n",
       "      <th>7</th>\n",
       "      <td>0</td>\n",
       "      <td>1</td>\n",
       "      <td>3</td>\n",
       "      <td>0</td>\n",
       "      <td>1</td>\n",
       "    </tr>\n",
       "    <tr>\n",
       "      <th>8</th>\n",
       "      <td>1</td>\n",
       "      <td>0</td>\n",
       "      <td>3</td>\n",
       "      <td>0</td>\n",
       "      <td>1</td>\n",
       "    </tr>\n",
       "    <tr>\n",
       "      <th>9</th>\n",
       "      <td>0</td>\n",
       "      <td>0</td>\n",
       "      <td>2</td>\n",
       "      <td>1</td>\n",
       "      <td>1</td>\n",
       "    </tr>\n",
       "  </tbody>\n",
       "</table>\n",
       "</div>"
      ],
      "text/plain": [
       "   p1  p2  p3  p4  label\n",
       "0   1   0   0   0      1\n",
       "1   0   1   1   0      1\n",
       "2   1   0   1   0      1\n",
       "3   0   0   0   1      1\n",
       "4   0   1   2   0      1\n",
       "5   1   0   2   0      1\n",
       "6   0   0   1   1      1\n",
       "7   0   1   3   0      1\n",
       "8   1   0   3   0      1\n",
       "9   0   0   2   1      1"
      ]
     },
     "execution_count": 4,
     "metadata": {},
     "output_type": "execute_result"
    }
   ],
   "source": [
    "df_raw.head(10)"
   ]
  },
  {
   "cell_type": "code",
   "execution_count": 5,
   "metadata": {},
   "outputs": [],
   "source": [
    "def random_undersampling(tmp_df, TARGET_LABEL):\n",
    "    df_majority = tmp_df[tmp_df[TARGET_LABEL] == 0]\n",
    "    df_minority = tmp_df[tmp_df[TARGET_LABEL] == 1]\n",
    "\n",
    "    df_majority_downsampled = resample(df_majority, \n",
    "                                       replace=False,              \n",
    "                                       n_samples=len(df_minority), \n",
    "                                       random_state=None)        \n",
    "\n",
    "    df_downsampled = pd.concat([df_majority_downsampled, df_minority])\n",
    "\n",
    "    print(\"Undersampling complete!\")\n",
    "    print(df_downsampled[TARGET_LABEL].value_counts())\n",
    "    return df_downsampled"
   ]
  },
  {
   "cell_type": "code",
   "execution_count": 6,
   "metadata": {},
   "outputs": [
    {
     "name": "stdout",
     "output_type": "stream",
     "text": [
      "Undersampling complete!\n",
      "0    10000\n",
      "1    10000\n",
      "Name: label, dtype: int64\n"
     ]
    }
   ],
   "source": [
    "df_downsampled = random_undersampling(df_raw, 'label')\n",
    "df_downsampled = df_downsampled.sample(frac=1) \n",
    "df_downsampled = df_downsampled.reset_index() \n",
    "df_downsampled = df_downsampled.drop(columns=['index']) "
   ]
  },
  {
   "cell_type": "code",
   "execution_count": 7,
   "metadata": {},
   "outputs": [
    {
     "data": {
      "text/html": [
       "<div>\n",
       "<style scoped>\n",
       "    .dataframe tbody tr th:only-of-type {\n",
       "        vertical-align: middle;\n",
       "    }\n",
       "\n",
       "    .dataframe tbody tr th {\n",
       "        vertical-align: top;\n",
       "    }\n",
       "\n",
       "    .dataframe thead th {\n",
       "        text-align: right;\n",
       "    }\n",
       "</style>\n",
       "<table border=\"1\" class=\"dataframe\">\n",
       "  <thead>\n",
       "    <tr style=\"text-align: right;\">\n",
       "      <th></th>\n",
       "      <th>p1</th>\n",
       "      <th>p2</th>\n",
       "      <th>p3</th>\n",
       "      <th>p4</th>\n",
       "      <th>label</th>\n",
       "    </tr>\n",
       "  </thead>\n",
       "  <tbody>\n",
       "    <tr>\n",
       "      <th>0</th>\n",
       "      <td>0</td>\n",
       "      <td>0</td>\n",
       "      <td>957</td>\n",
       "      <td>1</td>\n",
       "      <td>1</td>\n",
       "    </tr>\n",
       "    <tr>\n",
       "      <th>1</th>\n",
       "      <td>2156</td>\n",
       "      <td>836</td>\n",
       "      <td>950</td>\n",
       "      <td>1865</td>\n",
       "      <td>0</td>\n",
       "    </tr>\n",
       "    <tr>\n",
       "      <th>2</th>\n",
       "      <td>1</td>\n",
       "      <td>0</td>\n",
       "      <td>1154</td>\n",
       "      <td>0</td>\n",
       "      <td>1</td>\n",
       "    </tr>\n",
       "    <tr>\n",
       "      <th>3</th>\n",
       "      <td>0</td>\n",
       "      <td>1</td>\n",
       "      <td>1130</td>\n",
       "      <td>0</td>\n",
       "      <td>1</td>\n",
       "    </tr>\n",
       "    <tr>\n",
       "      <th>4</th>\n",
       "      <td>1</td>\n",
       "      <td>0</td>\n",
       "      <td>1162</td>\n",
       "      <td>1</td>\n",
       "      <td>0</td>\n",
       "    </tr>\n",
       "    <tr>\n",
       "      <th>5</th>\n",
       "      <td>1</td>\n",
       "      <td>1</td>\n",
       "      <td>37</td>\n",
       "      <td>1</td>\n",
       "      <td>0</td>\n",
       "    </tr>\n",
       "    <tr>\n",
       "      <th>6</th>\n",
       "      <td>0</td>\n",
       "      <td>0</td>\n",
       "      <td>1946</td>\n",
       "      <td>1</td>\n",
       "      <td>1</td>\n",
       "    </tr>\n",
       "    <tr>\n",
       "      <th>7</th>\n",
       "      <td>1</td>\n",
       "      <td>1</td>\n",
       "      <td>2323</td>\n",
       "      <td>1</td>\n",
       "      <td>0</td>\n",
       "    </tr>\n",
       "    <tr>\n",
       "      <th>8</th>\n",
       "      <td>0</td>\n",
       "      <td>0</td>\n",
       "      <td>2958</td>\n",
       "      <td>1</td>\n",
       "      <td>1</td>\n",
       "    </tr>\n",
       "    <tr>\n",
       "      <th>9</th>\n",
       "      <td>2442</td>\n",
       "      <td>10</td>\n",
       "      <td>964</td>\n",
       "      <td>450</td>\n",
       "      <td>0</td>\n",
       "    </tr>\n",
       "  </tbody>\n",
       "</table>\n",
       "</div>"
      ],
      "text/plain": [
       "     p1   p2    p3    p4  label\n",
       "0     0    0   957     1      1\n",
       "1  2156  836   950  1865      0\n",
       "2     1    0  1154     0      1\n",
       "3     0    1  1130     0      1\n",
       "4     1    0  1162     1      0\n",
       "5     1    1    37     1      0\n",
       "6     0    0  1946     1      1\n",
       "7     1    1  2323     1      0\n",
       "8     0    0  2958     1      1\n",
       "9  2442   10   964   450      0"
      ]
     },
     "execution_count": 7,
     "metadata": {},
     "output_type": "execute_result"
    }
   ],
   "source": [
    "df_downsampled.head(10)"
   ]
  },
  {
   "cell_type": "code",
   "execution_count": 8,
   "metadata": {},
   "outputs": [
    {
     "name": "stdout",
     "output_type": "stream",
     "text": [
      "16000\n",
      "4000\n",
      "1    8077\n",
      "0    7923\n",
      "Name: label, dtype: int64\n",
      "Has null values False\n",
      "0    2077\n",
      "1    1923\n",
      "Name: label, dtype: int64\n",
      "Has null values False\n"
     ]
    }
   ],
   "source": [
    "x_data = df_raw.iloc[:,:-1]\n",
    "y_data = df_raw.iloc[:,-1]\n",
    "\n",
    "x_train, x_test, y_train, y_test = train_test_split(x_data, y_data, test_size=0.2, random_state=7)\n",
    "\n",
    "x_train_input = pd.concat([x_train,y_train],axis=1)\n",
    "x_test_input = pd.concat([x_test,y_test],axis=1)\n",
    "\n",
    "print(len(x_train_input))\n",
    "print(len(x_test_input))\n",
    "\n",
    "print(x_train_input.label.value_counts())\n",
    "print('Has null values', x_train_input.isnull().values.any())\n",
    "\n",
    "print(x_test_input.label.value_counts())\n",
    "print('Has null values', x_test_input.isnull().values.any())"
   ]
  },
  {
   "cell_type": "code",
   "execution_count": 9,
   "metadata": {},
   "outputs": [
    {
     "data": {
      "text/html": [
       "<div>\n",
       "<style scoped>\n",
       "    .dataframe tbody tr th:only-of-type {\n",
       "        vertical-align: middle;\n",
       "    }\n",
       "\n",
       "    .dataframe tbody tr th {\n",
       "        vertical-align: top;\n",
       "    }\n",
       "\n",
       "    .dataframe thead th {\n",
       "        text-align: right;\n",
       "    }\n",
       "</style>\n",
       "<table border=\"1\" class=\"dataframe\">\n",
       "  <thead>\n",
       "    <tr style=\"text-align: right;\">\n",
       "      <th></th>\n",
       "      <th>p1</th>\n",
       "      <th>p2</th>\n",
       "      <th>p3</th>\n",
       "      <th>p4</th>\n",
       "      <th>label</th>\n",
       "    </tr>\n",
       "  </thead>\n",
       "  <tbody>\n",
       "    <tr>\n",
       "      <th>8118</th>\n",
       "      <td>0</td>\n",
       "      <td>0</td>\n",
       "      <td>2705</td>\n",
       "      <td>1</td>\n",
       "      <td>1</td>\n",
       "    </tr>\n",
       "    <tr>\n",
       "      <th>10171</th>\n",
       "      <td>0</td>\n",
       "      <td>0</td>\n",
       "      <td>2141</td>\n",
       "      <td>0</td>\n",
       "      <td>0</td>\n",
       "    </tr>\n",
       "    <tr>\n",
       "      <th>9399</th>\n",
       "      <td>0</td>\n",
       "      <td>0</td>\n",
       "      <td>3132</td>\n",
       "      <td>1</td>\n",
       "      <td>1</td>\n",
       "    </tr>\n",
       "    <tr>\n",
       "      <th>12669</th>\n",
       "      <td>1</td>\n",
       "      <td>1</td>\n",
       "      <td>2336</td>\n",
       "      <td>0</td>\n",
       "      <td>0</td>\n",
       "    </tr>\n",
       "    <tr>\n",
       "      <th>18809</th>\n",
       "      <td>1457</td>\n",
       "      <td>3115</td>\n",
       "      <td>942</td>\n",
       "      <td>1111</td>\n",
       "      <td>0</td>\n",
       "    </tr>\n",
       "    <tr>\n",
       "      <th>13869</th>\n",
       "      <td>0</td>\n",
       "      <td>0</td>\n",
       "      <td>1609</td>\n",
       "      <td>0</td>\n",
       "      <td>0</td>\n",
       "    </tr>\n",
       "    <tr>\n",
       "      <th>3320</th>\n",
       "      <td>1</td>\n",
       "      <td>0</td>\n",
       "      <td>1107</td>\n",
       "      <td>0</td>\n",
       "      <td>1</td>\n",
       "    </tr>\n",
       "    <tr>\n",
       "      <th>14689</th>\n",
       "      <td>1</td>\n",
       "      <td>1</td>\n",
       "      <td>1319</td>\n",
       "      <td>0</td>\n",
       "      <td>0</td>\n",
       "    </tr>\n",
       "    <tr>\n",
       "      <th>13087</th>\n",
       "      <td>1</td>\n",
       "      <td>1</td>\n",
       "      <td>2692</td>\n",
       "      <td>1</td>\n",
       "      <td>0</td>\n",
       "    </tr>\n",
       "    <tr>\n",
       "      <th>15992</th>\n",
       "      <td>515</td>\n",
       "      <td>833</td>\n",
       "      <td>2507</td>\n",
       "      <td>1884</td>\n",
       "      <td>0</td>\n",
       "    </tr>\n",
       "  </tbody>\n",
       "</table>\n",
       "</div>"
      ],
      "text/plain": [
       "         p1    p2    p3    p4  label\n",
       "8118      0     0  2705     1      1\n",
       "10171     0     0  2141     0      0\n",
       "9399      0     0  3132     1      1\n",
       "12669     1     1  2336     0      0\n",
       "18809  1457  3115   942  1111      0\n",
       "13869     0     0  1609     0      0\n",
       "3320      1     0  1107     0      1\n",
       "14689     1     1  1319     0      0\n",
       "13087     1     1  2692     1      0\n",
       "15992   515   833  2507  1884      0"
      ]
     },
     "execution_count": 9,
     "metadata": {},
     "output_type": "execute_result"
    }
   ],
   "source": [
    "x_train_input.head(10)"
   ]
  },
  {
   "cell_type": "code",
   "execution_count": 10,
   "metadata": {},
   "outputs": [],
   "source": [
    "df = x_train_input.copy()\n",
    "\n",
    "NON_LBL = [c for c in df.columns if c != 'label']\n",
    "X = df[NON_LBL]\n",
    "y = df['label']\n",
    "\n",
    "y_orig = y.copy()\n",
    "\n",
    "hidden_size = 5000\n",
    "y.loc[\n",
    "    np.random.choice(\n",
    "        y[y == 1].index, \n",
    "        replace = False, \n",
    "        size = hidden_size\n",
    "    )\n",
    "] = 0"
   ]
  },
  {
   "cell_type": "code",
   "execution_count": 11,
   "metadata": {},
   "outputs": [
    {
     "data": {
      "text/plain": [
       "0    12923\n",
       "1     3077\n",
       "Name: label, dtype: int64"
      ]
     },
     "execution_count": 11,
     "metadata": {},
     "output_type": "execute_result"
    }
   ],
   "source": [
    "pd.Series(y).value_counts()"
   ]
  },
  {
   "cell_type": "code",
   "execution_count": 12,
   "metadata": {},
   "outputs": [
    {
     "name": "stdout",
     "output_type": "stream",
     "text": [
      "- 16000 samples and 4 features\n",
      "- 10000 positive out of 20000 total before hiding labels\n",
      "- 3077 positive out of 16000 total after hiding labels\n"
     ]
    }
   ],
   "source": [
    "print('- %d samples and %d features' % (X.shape))\n",
    "print('- %d positive out of %d total before hiding labels' % (sum(df_downsampled.label), len(df_downsampled.label)))\n",
    "print('- %d positive out of %d total after hiding labels' % (sum(y), len(y)))"
   ]
  },
  {
   "cell_type": "markdown",
   "metadata": {},
   "source": [
    "# Trainning directly"
   ]
  },
  {
   "cell_type": "code",
   "execution_count": 13,
   "metadata": {},
   "outputs": [
    {
     "name": "stdout",
     "output_type": "stream",
     "text": [
      "[[   0    0 2705    1]\n",
      " [   0    0 2141    0]\n",
      " [   0    0 3132    1]\n",
      " ...\n",
      " [   1    0 1900    0]\n",
      " [   0    1 2930    1]\n",
      " [2113  604 1171 1381]]\n",
      "(16000, 4)\n",
      "[1 0 1 ... 1 0 0]\n",
      "[1 0 1 ... 1 0 0]\n"
     ]
    }
   ],
   "source": [
    "X_FCM = np.array(X.values.tolist())\n",
    "y_FCM = np.array(y.values.tolist())\n",
    "y_orig_FCM = np.array(y_orig.values.tolist())\n",
    "print(X_FCM)\n",
    "print(X_FCM.shape)\n",
    "print(y_FCM)\n",
    "print(y_orig_FCM)"
   ]
  },
  {
   "cell_type": "code",
   "execution_count": 14,
   "metadata": {
    "scrolled": true
   },
   "outputs": [
    {
     "name": "stderr",
     "output_type": "stream",
     "text": [
      "set_membership_from_hard_cluster > membership: \n",
      "[[0. 1. 0. ... 0. 0. 0.]\n",
      " [1. 0. 0. ... 0. 0. 0.]\n",
      " [0. 1. 0. ... 0. 0. 0.]\n",
      " ...\n",
      " [0. 1. 0. ... 0. 0. 0.]\n",
      " [1. 0. 0. ... 0. 0. 0.]\n",
      " [1. 0. 0. ... 0. 0. 0.]]\n",
      "num of points: 16000\n",
      "num of features: 4\n",
      "set_membership_from_hard_cluster > cluster centers: \n",
      "[array([ 516.48409812,  521.9837499 , 1661.99620831,  516.34125203]), array([3.29541761e-01, 3.40916477e-01, 1.64703672e+03, 3.29541761e-01])]\n",
      "updated membership is: \n",
      "[[0.37161621 0.62838379 0.         ... 0.         0.         0.        ]\n",
      " [0.19073295 0.80926705 0.         ... 0.         0.         0.        ]\n",
      " [0.42645335 0.57354665 0.         ... 0.         0.         0.        ]\n",
      " ...\n",
      " [0.06914696 0.93085304 0.         ... 0.         0.         0.        ]\n",
      " [0.40565888 0.59434112 0.         ... 0.         0.         0.        ]\n",
      " [0.66260633 0.33739367 0.         ... 0.         0.         0.        ]]\n",
      "updated membership is: \n",
      "[[0.37161621 0.62838379 0.         ... 0.         0.         0.        ]\n",
      " [0.19073295 0.80926705 0.         ... 0.         0.         0.        ]\n",
      " [0.42645335 0.57354665 0.         ... 0.         0.         0.        ]\n",
      " ...\n",
      " [0.06914696 0.93085304 0.         ... 0.         0.         0.        ]\n",
      " [0.40565888 0.59434112 0.         ... 0.         0.         0.        ]\n",
      " [0.66260633 0.33739367 0.         ... 0.         0.         0.        ]]\n",
      "updated membership is: \n",
      "[[0.37161621 0.62838379 0.         ... 0.         0.         0.        ]\n",
      " [0.19073295 0.80926705 0.         ... 0.         0.         0.        ]\n",
      " [0.42645335 0.57354665 0.         ... 0.         0.         0.        ]\n",
      " ...\n",
      " [0.06914696 0.93085304 0.         ... 0.         0.         0.        ]\n",
      " [0.40565888 0.59434112 0.         ... 0.         0.         0.        ]\n",
      " [0.66260633 0.33739367 0.         ... 0.         0.         0.        ]]\n",
      "updated membership is: \n",
      "[[0.37161621 0.62838379 0.         ... 0.         0.         0.        ]\n",
      " [0.19073295 0.80926705 0.         ... 0.         0.         0.        ]\n",
      " [0.42645335 0.57354665 0.         ... 0.         0.         0.        ]\n",
      " ...\n",
      " [0.06914696 0.93085304 0.         ... 0.         0.         0.        ]\n",
      " [0.40565888 0.59434112 0.         ... 0.         0.         0.        ]\n",
      " [0.66260633 0.33739367 0.         ... 0.         0.         0.        ]]\n",
      "updated membership is: \n",
      "[[0.37161621 0.62838379 0.         ... 0.         0.         0.        ]\n",
      " [0.19073295 0.80926705 0.         ... 0.         0.         0.        ]\n",
      " [0.42645335 0.57354665 0.         ... 0.         0.         0.        ]\n",
      " ...\n",
      " [0.06914696 0.93085304 0.         ... 0.         0.         0.        ]\n",
      " [0.40565888 0.59434112 0.         ... 0.         0.         0.        ]\n",
      " [0.66260633 0.33739367 0.         ... 0.         0.         0.        ]]\n",
      "updated membership is: \n",
      "[[0.37161621 0.62838379 0.         ... 0.         0.         0.        ]\n",
      " [0.19073295 0.80926705 0.         ... 0.         0.         0.        ]\n",
      " [0.42645335 0.57354665 0.         ... 0.         0.         0.        ]\n",
      " ...\n",
      " [0.06914696 0.93085304 0.         ... 0.         0.         0.        ]\n",
      " [0.40565888 0.59434112 0.         ... 0.         0.         0.        ]\n",
      " [0.66260633 0.33739367 0.         ... 0.         0.         0.        ]]\n",
      "updated membership is: \n",
      "[[0.37161621 0.62838379 0.         ... 0.         0.         0.        ]\n",
      " [0.19073295 0.80926705 0.         ... 0.         0.         0.        ]\n",
      " [0.42645335 0.57354665 0.         ... 0.         0.         0.        ]\n",
      " ...\n",
      " [0.06914696 0.93085304 0.         ... 0.         0.         0.        ]\n",
      " [0.40565888 0.59434112 0.         ... 0.         0.         0.        ]\n",
      " [0.66260633 0.33739367 0.         ... 0.         0.         0.        ]]\n",
      "updated membership is: \n",
      "[[0.37161621 0.62838379 0.         ... 0.         0.         0.        ]\n",
      " [0.19073295 0.80926705 0.         ... 0.         0.         0.        ]\n",
      " [0.42645335 0.57354665 0.         ... 0.         0.         0.        ]\n",
      " ...\n",
      " [0.06914696 0.93085304 0.         ... 0.         0.         0.        ]\n",
      " [0.40565888 0.59434112 0.         ... 0.         0.         0.        ]\n",
      " [0.66260633 0.33739367 0.         ... 0.         0.         0.        ]]\n",
      "updated membership is: \n",
      "[[0.37161621 0.62838379 0.         ... 0.         0.         0.        ]\n",
      " [0.19073295 0.80926705 0.         ... 0.         0.         0.        ]\n",
      " [0.42645335 0.57354665 0.         ... 0.         0.         0.        ]\n",
      " ...\n",
      " [0.06914696 0.93085304 0.         ... 0.         0.         0.        ]\n",
      " [0.40565888 0.59434112 0.         ... 0.         0.         0.        ]\n",
      " [0.66260633 0.33739367 0.         ... 0.         0.         0.        ]]\n",
      "updated membership is: \n",
      "[[0.37161621 0.62838379 0.         ... 0.         0.         0.        ]\n",
      " [0.19073295 0.80926705 0.         ... 0.         0.         0.        ]\n",
      " [0.42645335 0.57354665 0.         ... 0.         0.         0.        ]\n",
      " ...\n",
      " [0.06914696 0.93085304 0.         ... 0.         0.         0.        ]\n",
      " [0.40565888 0.59434112 0.         ... 0.         0.         0.        ]\n",
      " [0.66260633 0.33739367 0.         ... 0.         0.         0.        ]]\n"
     ]
    },
    {
     "name": "stdout",
     "output_type": "stream",
     "text": [
      "Done\n",
      "Training FCM model ...\n"
     ]
    }
   ],
   "source": [
    "import logging\n",
    "from FCM import FCM\n",
    "\n",
    "model = FCM(n_clusters=2)\n",
    "model.set_logger(tostdout=True, level=logging.DEBUG)\n",
    "model.fit(X_FCM, y_FCM)\n",
    "\n",
    "print('Done')\n",
    "print('Training FCM model ...')"
   ]
  },
  {
   "cell_type": "code",
   "execution_count": 15,
   "metadata": {},
   "outputs": [
    {
     "name": "stdout",
     "output_type": "stream",
     "text": [
      "[[0.37161621 0.62838379]\n",
      " [0.19073295 0.80926705]\n",
      " [0.42645335 0.57354665]\n",
      " ...\n",
      " [0.06914696 0.93085304]\n",
      " [0.40565888 0.59434112]\n",
      " [0.66260633 0.33739367]]\n"
     ]
    }
   ],
   "source": [
    "model.predict_proba(X_FCM)\n",
    "print(model.predict_proba(X_FCM))"
   ]
  },
  {
   "cell_type": "code",
   "execution_count": 16,
   "metadata": {},
   "outputs": [
    {
     "name": "stdout",
     "output_type": "stream",
     "text": [
      "[1 1 1 ... 1 1 0]\n"
     ]
    }
   ],
   "source": [
    "model.predict(X_FCM)\n",
    "print(model.predict(X_FCM))"
   ]
  },
  {
   "cell_type": "code",
   "execution_count": 17,
   "metadata": {},
   "outputs": [
    {
     "name": "stdout",
     "output_type": "stream",
     "text": [
      "---- FCM ----\n",
      "                        pred_negative        pred_positive \n",
      "           true_negative       3985.0       3938.0 \n",
      "           true_positive          0.0       8077.0 \n",
      "None\n",
      "\n",
      "Precision:  0.6722430295464004\n",
      "Recall:  1.0\n",
      "Accuracy:  0.753875\n",
      "f1_score:  0.804001592673701\n"
     ]
    }
   ],
   "source": [
    "print('---- {} ----'.format('FCM'))\n",
    "print(print_cm(sklearn.metrics.confusion_matrix(y_orig_FCM, model.predict(X_FCM)), labels=['negative', 'positive']))\n",
    "print('')\n",
    "print('Precision: ', precision_score(y_orig_FCM, model.predict(X_FCM)))\n",
    "print('Recall: ', recall_score(y_orig_FCM, model.predict(X_FCM)))\n",
    "print('Accuracy: ', accuracy_score(y_orig_FCM, model.predict(X_FCM)))\n",
    "print('f1_score: ', f1_score(y_orig_FCM, model.predict(X_FCM)))"
   ]
  },
  {
   "cell_type": "markdown",
   "metadata": {},
   "source": [
    "# Training by bagging"
   ]
  },
  {
   "cell_type": "code",
   "execution_count": 26,
   "metadata": {},
   "outputs": [
    {
     "name": "stdout",
     "output_type": "stream",
     "text": [
      "Training bagging classifier...\n",
      "Done!\n",
      "Time: 281.1064476361498\n"
     ]
    }
   ],
   "source": [
    "print('Training bagging classifier...')\n",
    "\n",
    "pu_start = time.perf_counter()\n",
    "\n",
    "fcm = FCM(n_clusters=2)\n",
    "fcm.set_logger(tostdout=True, level=logging.DEBUG)\n",
    "\n",
    "model = BaggingClassifierPU(fcm,\n",
    "                         n_estimators = 50, \n",
    "                         n_jobs = -1, \n",
    "                         max_samples = sum(y_FCM)  \n",
    "                        )\n",
    "\n",
    "model.fit(X_FCM, y_FCM)\n",
    "pu_end = time.perf_counter()\n",
    "print('Done!')\n",
    "print('Time:', pu_end - pu_start)"
   ]
  },
  {
   "cell_type": "code",
   "execution_count": 28,
   "metadata": {},
   "outputs": [
    {
     "name": "stdout",
     "output_type": "stream",
     "text": [
      "[[0.57980809 0.97727814]\n",
      " [0.29809688 1.25898935]\n",
      " [0.66496352 0.89212271]\n",
      " ...\n",
      " [0.10818309 1.44890314]\n",
      " [0.63269164 0.92439459]\n",
      " [1.03122586 0.52586037]]\n"
     ]
    }
   ],
   "source": [
    "model.predict_proba(X_FCM)\n",
    "print(model.predict_proba(X_FCM))"
   ]
  },
  {
   "cell_type": "code",
   "execution_count": 29,
   "metadata": {},
   "outputs": [
    {
     "name": "stdout",
     "output_type": "stream",
     "text": [
      "[1 1 1 ... 1 1 0]\n"
     ]
    }
   ],
   "source": [
    "model.predict(X_FCM)\n",
    "print(model.predict(X_FCM))"
   ]
  },
  {
   "cell_type": "code",
   "execution_count": 27,
   "metadata": {
    "scrolled": true
   },
   "outputs": [
    {
     "name": "stdout",
     "output_type": "stream",
     "text": [
      "---- PU Bagging ----\n",
      "                        pred_negative        pred_positive \n",
      "           true_negative       3985.0       3938.0 \n",
      "           true_positive          0.0       8077.0 \n",
      "None\n",
      "\n",
      "Precision:  0.6722430295464004\n",
      "Recall:  1.0\n",
      "Accuracy:  0.753875\n",
      "f1_score:  0.804001592673701\n"
     ]
    }
   ],
   "source": [
    "#train data\n",
    "print('---- {} ----'.format('PU Bagging'))\n",
    "print(print_cm(sklearn.metrics.confusion_matrix(y_orig_FCM, model.predict(X_FCM)), labels=['negative', 'positive']))\n",
    "print('')\n",
    "print('Precision: ', precision_score(y_orig_FCM, model.predict(X_FCM)))\n",
    "print('Recall: ', recall_score(y_orig_FCM, model.predict(X_FCM)))\n",
    "print('Accuracy: ', accuracy_score(y_orig_FCM, model.predict(X_FCM)))\n",
    "print('f1_score: ', f1_score(y_orig_FCM, model.predict(X_FCM)))"
   ]
  },
  {
   "cell_type": "code",
   "execution_count": null,
   "metadata": {},
   "outputs": [],
   "source": [
    "#print wrong predictions\n",
    "y_pre = model.predict(X_FCM)\n",
    "y_orig_index = y_orig.index.tolist()\n",
    "\n",
    "FN_index = []\n",
    "FT_index = []\n",
    "\n",
    "for i in range(len(y_orig)):\n",
    "    if y_orig.iloc[i] == 1 and y_pre[i] == 0 :\n",
    "        FN_index.append(y_orig_index[i])\n",
    "    if y_orig.iloc[i] == 0 and y_pre[i] == 1 :\n",
    "        FT_index.append(y_orig_index[i])\n",
    "        \n",
    "print(\"False Negtive:\")\n",
    "print(X.loc[FN_index])\n",
    "print(\"False Positive:\")\n",
    "print(X.loc[FT_index])"
   ]
  },
  {
   "cell_type": "code",
   "execution_count": 32,
   "metadata": {
    "pycharm": {
     "name": "#%%\n"
    }
   },
   "outputs": [
    {
     "name": "stdout",
     "output_type": "stream",
     "text": [
      "---- PU Bagging ----\n",
      "                        pred_negative        pred_positive \n",
      "           true_negative       2070.0          7.0 \n",
      "           true_positive        352.0       1571.0 \n",
      "None\n",
      "\n",
      "Precision:  0.9955640050697085\n",
      "Recall:  0.8169526781071242\n",
      "Accuracy:  0.91025\n",
      "f1_score:  0.8974578691802342\n"
     ]
    }
   ],
   "source": [
    "#test data\n",
    "print('---- {} ----'.format('PU Bagging'))\n",
    "print(print_cm(sklearn.metrics.confusion_matrix(y_test, model.predict(x_test)), labels=['negative', 'positive']))\n",
    "print('')\n",
    "print('Precision: ', precision_score(y_test, model.predict(x_test)))\n",
    "print('Recall: ', recall_score(y_test, model.predict(x_test)))\n",
    "print('Accuracy: ', accuracy_score(y_test, model.predict(x_test)))\n",
    "print('f1_score: ', f1_score(y_test, model.predict(x_test)))"
   ]
  },
  {
   "cell_type": "code",
   "execution_count": null,
   "metadata": {
    "pycharm": {
     "name": "#%%\n"
    }
   },
   "outputs": [],
   "source": [
    "#print wrong predictions\n",
    "y_test_pre = model.predict(x_test)\n",
    "y_test_index = y_test.index.tolist()\n",
    "\n",
    "FN_test_index = []\n",
    "FT_test_index = []\n",
    "\n",
    "for i in range(len(y_test)):\n",
    "    if y_test.iloc[i] == 1 and y_test_pre[i] == 0 :\n",
    "        FN_test_index.append(y_test_index[i])\n",
    "    if y_test.iloc[i] == 0 and y_test_pre[i] == 1 :\n",
    "        FT_test_index.append(y_test_index[i])\n",
    "\n",
    "print(\"False Negtive:\")\n",
    "print(x_test.loc[FN_test_index])\n",
    "print(\"False Positive:\")\n",
    "print(x_test.loc[FT_test_index])"
   ]
  },
  {
   "cell_type": "code",
   "execution_count": null,
   "metadata": {},
   "outputs": [],
   "source": []
  }
 ],
 "metadata": {
  "kernelspec": {
   "display_name": "Python 3",
   "language": "python",
   "name": "python3"
  },
  "language_info": {
   "codemirror_mode": {
    "name": "ipython",
    "version": 3
   },
   "file_extension": ".py",
   "mimetype": "text/x-python",
   "name": "python",
   "nbconvert_exporter": "python",
   "pygments_lexer": "ipython3",
   "version": "3.8.8"
  }
 },
 "nbformat": 4,
 "nbformat_minor": 1
}
