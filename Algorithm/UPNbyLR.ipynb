{
 "cells": [
  {
   "cell_type": "code",
   "execution_count": 2,
   "metadata": {},
   "outputs": [],
   "source": [
    "import time\n",
    "import sklearn\n",
    "import numpy as np\n",
    "import pandas as pd\n",
    "\n",
    "from sklearn.utils import resample\n",
    "\n",
    "import sys\n",
    "sys.path.append(\"..\")\n",
    "from baggingPU import BaggingClassifierPU\n",
    "from sklearn.linear_model import LogisticRegression\n",
    "from sklearn.model_selection import train_test_split\n",
    "from sklearn.metrics import accuracy_score, precision_score, recall_score, f1_score"
   ]
  },
  {
   "cell_type": "code",
   "execution_count": 3,
   "metadata": {},
   "outputs": [],
   "source": [
    "def print_cm(cm, labels, hide_zeroes=False, hide_diagonal=False, hide_threshold=None):\n",
    "    columnwidth = max([len(x) for x in labels]) + 4\n",
    "    empty_cell = \" \" * columnwidth\n",
    "    print(\"    \" + empty_cell, end=' ')\n",
    "    for label in labels:\n",
    "        print(\"%{0}s\".format(columnwidth) % 'pred_' + label, end=\" \")\n",
    "    print()\n",
    "\n",
    "    for i, label1 in enumerate(labels):\n",
    "        print(\"    %{0}s\".format(columnwidth) % 'true_' + label1, end=\" \")\n",
    "        for j in range(len(labels)):\n",
    "            cell = \"%{0}.1f\".format(columnwidth) % cm[i, j]\n",
    "            if hide_zeroes:\n",
    "                cell = cell if float(cm[i, j]) != 0 else empty_cell\n",
    "            if hide_diagonal:\n",
    "                cell = cell if i != j else empty_cell\n",
    "            if hide_threshold:\n",
    "                cell = cell if cm[i, j] > hide_threshold else empty_cell\n",
    "            if cell:\n",
    "                print(cell, end=\" \")\n",
    "        print()"
   ]
  },
  {
   "cell_type": "markdown",
   "metadata": {},
   "source": [
    "# import data"
   ]
  },
  {
   "cell_type": "code",
   "execution_count": 4,
   "metadata": {
    "scrolled": true
   },
   "outputs": [
    {
     "name": "stdout",
     "output_type": "stream",
     "text": [
      "1    10000\n",
      "0    10000\n",
      "Name: label, dtype: int64\n",
      "Has null values False\n"
     ]
    }
   ],
   "source": [
    "df_raw = pd.read_csv('../data/w-independence.csv')\n",
    "\n",
    "#df_raw = pd.read_csv('../data/1place-dependence.csv')\n",
    "\n",
    "#df_raw = pd.read_csv('../data/w-related.csv')\n",
    "\n",
    "df_raw['label'] = df_raw['label'].astype(\"int\")\n",
    "print(df_raw.label.value_counts())\n",
    "print('Has null values', df_raw.isnull().values.any())"
   ]
  },
  {
   "cell_type": "code",
   "execution_count": 5,
   "metadata": {},
   "outputs": [
    {
     "data": {
      "text/html": [
       "<div>\n",
       "<style scoped>\n",
       "    .dataframe tbody tr th:only-of-type {\n",
       "        vertical-align: middle;\n",
       "    }\n",
       "\n",
       "    .dataframe tbody tr th {\n",
       "        vertical-align: top;\n",
       "    }\n",
       "\n",
       "    .dataframe thead th {\n",
       "        text-align: right;\n",
       "    }\n",
       "</style>\n",
       "<table border=\"1\" class=\"dataframe\">\n",
       "  <thead>\n",
       "    <tr style=\"text-align: right;\">\n",
       "      <th></th>\n",
       "      <th>p1</th>\n",
       "      <th>p2</th>\n",
       "      <th>p3</th>\n",
       "      <th>label</th>\n",
       "    </tr>\n",
       "  </thead>\n",
       "  <tbody>\n",
       "    <tr>\n",
       "      <th>0</th>\n",
       "      <td>0</td>\n",
       "      <td>0</td>\n",
       "      <td>1</td>\n",
       "      <td>1</td>\n",
       "    </tr>\n",
       "    <tr>\n",
       "      <th>1</th>\n",
       "      <td>1</td>\n",
       "      <td>0</td>\n",
       "      <td>1</td>\n",
       "      <td>1</td>\n",
       "    </tr>\n",
       "    <tr>\n",
       "      <th>2</th>\n",
       "      <td>0</td>\n",
       "      <td>1</td>\n",
       "      <td>1</td>\n",
       "      <td>1</td>\n",
       "    </tr>\n",
       "    <tr>\n",
       "      <th>3</th>\n",
       "      <td>2</td>\n",
       "      <td>0</td>\n",
       "      <td>1</td>\n",
       "      <td>1</td>\n",
       "    </tr>\n",
       "    <tr>\n",
       "      <th>4</th>\n",
       "      <td>1</td>\n",
       "      <td>1</td>\n",
       "      <td>1</td>\n",
       "      <td>1</td>\n",
       "    </tr>\n",
       "    <tr>\n",
       "      <th>5</th>\n",
       "      <td>0</td>\n",
       "      <td>1</td>\n",
       "      <td>0</td>\n",
       "      <td>1</td>\n",
       "    </tr>\n",
       "    <tr>\n",
       "      <th>6</th>\n",
       "      <td>0</td>\n",
       "      <td>2</td>\n",
       "      <td>1</td>\n",
       "      <td>1</td>\n",
       "    </tr>\n",
       "    <tr>\n",
       "      <th>7</th>\n",
       "      <td>3</td>\n",
       "      <td>0</td>\n",
       "      <td>1</td>\n",
       "      <td>1</td>\n",
       "    </tr>\n",
       "    <tr>\n",
       "      <th>8</th>\n",
       "      <td>2</td>\n",
       "      <td>1</td>\n",
       "      <td>1</td>\n",
       "      <td>1</td>\n",
       "    </tr>\n",
       "    <tr>\n",
       "      <th>9</th>\n",
       "      <td>1</td>\n",
       "      <td>1</td>\n",
       "      <td>0</td>\n",
       "      <td>1</td>\n",
       "    </tr>\n",
       "  </tbody>\n",
       "</table>\n",
       "</div>"
      ],
      "text/plain": [
       "   p1  p2  p3  label\n",
       "0   0   0   1      1\n",
       "1   1   0   1      1\n",
       "2   0   1   1      1\n",
       "3   2   0   1      1\n",
       "4   1   1   1      1\n",
       "5   0   1   0      1\n",
       "6   0   2   1      1\n",
       "7   3   0   1      1\n",
       "8   2   1   1      1\n",
       "9   1   1   0      1"
      ]
     },
     "execution_count": 5,
     "metadata": {},
     "output_type": "execute_result"
    }
   ],
   "source": [
    "df_raw.head(10)"
   ]
  },
  {
   "cell_type": "code",
   "execution_count": 6,
   "metadata": {},
   "outputs": [],
   "source": [
    "def random_undersampling(tmp_df, TARGET_LABEL):\n",
    "    df_majority = tmp_df[tmp_df[TARGET_LABEL] == 0]\n",
    "    df_minority = tmp_df[tmp_df[TARGET_LABEL] == 1]\n",
    "\n",
    "    df_majority_downsampled = resample(df_majority, \n",
    "                                       replace=False,              \n",
    "                                       n_samples=len(df_minority), \n",
    "                                       random_state=None)        \n",
    "\n",
    "    df_downsampled = pd.concat([df_majority_downsampled, df_minority])\n",
    "\n",
    "    print(\"Undersampling complete!\")\n",
    "    print(df_downsampled[TARGET_LABEL].value_counts())\n",
    "    return df_downsampled"
   ]
  },
  {
   "cell_type": "code",
   "execution_count": 7,
   "metadata": {},
   "outputs": [
    {
     "name": "stdout",
     "output_type": "stream",
     "text": [
      "Undersampling complete!\n",
      "1    10000\n",
      "0    10000\n",
      "Name: label, dtype: int64\n"
     ]
    }
   ],
   "source": [
    "df_downsampled = random_undersampling(df_raw, 'label')\n",
    "df_downsampled = df_downsampled.sample(frac=1) \n",
    "df_downsampled = df_downsampled.reset_index() \n",
    "df_downsampled = df_downsampled.drop(columns=['index']) "
   ]
  },
  {
   "cell_type": "code",
   "execution_count": 8,
   "metadata": {},
   "outputs": [
    {
     "data": {
      "text/html": [
       "<div>\n",
       "<style scoped>\n",
       "    .dataframe tbody tr th:only-of-type {\n",
       "        vertical-align: middle;\n",
       "    }\n",
       "\n",
       "    .dataframe tbody tr th {\n",
       "        vertical-align: top;\n",
       "    }\n",
       "\n",
       "    .dataframe thead th {\n",
       "        text-align: right;\n",
       "    }\n",
       "</style>\n",
       "<table border=\"1\" class=\"dataframe\">\n",
       "  <thead>\n",
       "    <tr style=\"text-align: right;\">\n",
       "      <th></th>\n",
       "      <th>p1</th>\n",
       "      <th>p2</th>\n",
       "      <th>p3</th>\n",
       "      <th>label</th>\n",
       "    </tr>\n",
       "  </thead>\n",
       "  <tbody>\n",
       "    <tr>\n",
       "      <th>0</th>\n",
       "      <td>13</td>\n",
       "      <td>52</td>\n",
       "      <td>0</td>\n",
       "      <td>1</td>\n",
       "    </tr>\n",
       "    <tr>\n",
       "      <th>1</th>\n",
       "      <td>83</td>\n",
       "      <td>76</td>\n",
       "      <td>574</td>\n",
       "      <td>0</td>\n",
       "    </tr>\n",
       "    <tr>\n",
       "      <th>2</th>\n",
       "      <td>28</td>\n",
       "      <td>1</td>\n",
       "      <td>1</td>\n",
       "      <td>1</td>\n",
       "    </tr>\n",
       "    <tr>\n",
       "      <th>3</th>\n",
       "      <td>14</td>\n",
       "      <td>52</td>\n",
       "      <td>309</td>\n",
       "      <td>0</td>\n",
       "    </tr>\n",
       "    <tr>\n",
       "      <th>4</th>\n",
       "      <td>24</td>\n",
       "      <td>73</td>\n",
       "      <td>0</td>\n",
       "      <td>1</td>\n",
       "    </tr>\n",
       "    <tr>\n",
       "      <th>5</th>\n",
       "      <td>79</td>\n",
       "      <td>37</td>\n",
       "      <td>326</td>\n",
       "      <td>0</td>\n",
       "    </tr>\n",
       "    <tr>\n",
       "      <th>6</th>\n",
       "      <td>15</td>\n",
       "      <td>36</td>\n",
       "      <td>1</td>\n",
       "      <td>1</td>\n",
       "    </tr>\n",
       "    <tr>\n",
       "      <th>7</th>\n",
       "      <td>45</td>\n",
       "      <td>82</td>\n",
       "      <td>613</td>\n",
       "      <td>0</td>\n",
       "    </tr>\n",
       "    <tr>\n",
       "      <th>8</th>\n",
       "      <td>20</td>\n",
       "      <td>1</td>\n",
       "      <td>873</td>\n",
       "      <td>0</td>\n",
       "    </tr>\n",
       "    <tr>\n",
       "      <th>9</th>\n",
       "      <td>27</td>\n",
       "      <td>39</td>\n",
       "      <td>927</td>\n",
       "      <td>0</td>\n",
       "    </tr>\n",
       "  </tbody>\n",
       "</table>\n",
       "</div>"
      ],
      "text/plain": [
       "   p1  p2   p3  label\n",
       "0  13  52    0      1\n",
       "1  83  76  574      0\n",
       "2  28   1    1      1\n",
       "3  14  52  309      0\n",
       "4  24  73    0      1\n",
       "5  79  37  326      0\n",
       "6  15  36    1      1\n",
       "7  45  82  613      0\n",
       "8  20   1  873      0\n",
       "9  27  39  927      0"
      ]
     },
     "execution_count": 8,
     "metadata": {},
     "output_type": "execute_result"
    }
   ],
   "source": [
    "df_downsampled.head(10)"
   ]
  },
  {
   "cell_type": "code",
   "execution_count": 9,
   "metadata": {},
   "outputs": [
    {
     "name": "stdout",
     "output_type": "stream",
     "text": [
      "16000\n",
      "4000\n",
      "1    8077\n",
      "0    7923\n",
      "Name: label, dtype: int64\n",
      "Has null values False\n",
      "0    2077\n",
      "1    1923\n",
      "Name: label, dtype: int64\n",
      "Has null values False\n"
     ]
    }
   ],
   "source": [
    "x_data = df_raw.iloc[:,:-1]\n",
    "y_data = df_raw.iloc[:,-1]\n",
    "\n",
    "x_train, x_test, y_train, y_test = train_test_split(x_data, y_data, test_size=0.2, random_state=7)\n",
    "\n",
    "x_train_input = pd.concat([x_train,y_train],axis=1)\n",
    "x_test_input = pd.concat([x_test,y_test],axis=1)\n",
    "\n",
    "print(len(x_train_input))\n",
    "print(len(x_test_input))\n",
    "\n",
    "print(x_train_input.label.value_counts())\n",
    "print('Has null values', x_train_input.isnull().values.any())\n",
    "\n",
    "print(x_test_input.label.value_counts())\n",
    "print('Has null values', x_test_input.isnull().values.any())"
   ]
  },
  {
   "cell_type": "code",
   "execution_count": 10,
   "metadata": {},
   "outputs": [
    {
     "data": {
      "text/html": [
       "<div>\n",
       "<style scoped>\n",
       "    .dataframe tbody tr th:only-of-type {\n",
       "        vertical-align: middle;\n",
       "    }\n",
       "\n",
       "    .dataframe tbody tr th {\n",
       "        vertical-align: top;\n",
       "    }\n",
       "\n",
       "    .dataframe thead th {\n",
       "        text-align: right;\n",
       "    }\n",
       "</style>\n",
       "<table border=\"1\" class=\"dataframe\">\n",
       "  <thead>\n",
       "    <tr style=\"text-align: right;\">\n",
       "      <th></th>\n",
       "      <th>p1</th>\n",
       "      <th>p2</th>\n",
       "      <th>p3</th>\n",
       "      <th>label</th>\n",
       "    </tr>\n",
       "  </thead>\n",
       "  <tbody>\n",
       "    <tr>\n",
       "      <th>8118</th>\n",
       "      <td>36</td>\n",
       "      <td>54</td>\n",
       "      <td>1</td>\n",
       "      <td>1</td>\n",
       "    </tr>\n",
       "    <tr>\n",
       "      <th>10171</th>\n",
       "      <td>46</td>\n",
       "      <td>67</td>\n",
       "      <td>333</td>\n",
       "      <td>0</td>\n",
       "    </tr>\n",
       "    <tr>\n",
       "      <th>9399</th>\n",
       "      <td>53</td>\n",
       "      <td>43</td>\n",
       "      <td>0</td>\n",
       "      <td>1</td>\n",
       "    </tr>\n",
       "    <tr>\n",
       "      <th>12669</th>\n",
       "      <td>21</td>\n",
       "      <td>1</td>\n",
       "      <td>930</td>\n",
       "      <td>0</td>\n",
       "    </tr>\n",
       "    <tr>\n",
       "      <th>18809</th>\n",
       "      <td>29</td>\n",
       "      <td>96</td>\n",
       "      <td>858</td>\n",
       "      <td>0</td>\n",
       "    </tr>\n",
       "    <tr>\n",
       "      <th>13869</th>\n",
       "      <td>44</td>\n",
       "      <td>12</td>\n",
       "      <td>453</td>\n",
       "      <td>0</td>\n",
       "    </tr>\n",
       "    <tr>\n",
       "      <th>3320</th>\n",
       "      <td>51</td>\n",
       "      <td>7</td>\n",
       "      <td>1</td>\n",
       "      <td>1</td>\n",
       "    </tr>\n",
       "    <tr>\n",
       "      <th>14689</th>\n",
       "      <td>12</td>\n",
       "      <td>79</td>\n",
       "      <td>617</td>\n",
       "      <td>0</td>\n",
       "    </tr>\n",
       "    <tr>\n",
       "      <th>13087</th>\n",
       "      <td>21</td>\n",
       "      <td>66</td>\n",
       "      <td>519</td>\n",
       "      <td>0</td>\n",
       "    </tr>\n",
       "    <tr>\n",
       "      <th>15992</th>\n",
       "      <td>98</td>\n",
       "      <td>59</td>\n",
       "      <td>520</td>\n",
       "      <td>0</td>\n",
       "    </tr>\n",
       "  </tbody>\n",
       "</table>\n",
       "</div>"
      ],
      "text/plain": [
       "       p1  p2   p3  label\n",
       "8118   36  54    1      1\n",
       "10171  46  67  333      0\n",
       "9399   53  43    0      1\n",
       "12669  21   1  930      0\n",
       "18809  29  96  858      0\n",
       "13869  44  12  453      0\n",
       "3320   51   7    1      1\n",
       "14689  12  79  617      0\n",
       "13087  21  66  519      0\n",
       "15992  98  59  520      0"
      ]
     },
     "execution_count": 10,
     "metadata": {},
     "output_type": "execute_result"
    }
   ],
   "source": [
    "x_train_input.head(10)"
   ]
  },
  {
   "cell_type": "code",
   "execution_count": 11,
   "metadata": {},
   "outputs": [],
   "source": [
    "df = x_train_input.copy()\n",
    "\n",
    "NON_LBL = [c for c in df.columns if c != 'label']\n",
    "X = df[NON_LBL]\n",
    "y = df['label']\n",
    "\n",
    "y_orig = y.copy()\n",
    "\n",
    "hidden_size = 5000\n",
    "y.loc[\n",
    "    np.random.choice(\n",
    "        y[y == 1].index, \n",
    "        replace = False, \n",
    "        size = hidden_size\n",
    "    )\n",
    "] = 0"
   ]
  },
  {
   "cell_type": "code",
   "execution_count": 12,
   "metadata": {},
   "outputs": [
    {
     "data": {
      "text/plain": [
       "0    12923\n",
       "1     3077\n",
       "Name: label, dtype: int64"
      ]
     },
     "execution_count": 12,
     "metadata": {},
     "output_type": "execute_result"
    }
   ],
   "source": [
    "pd.Series(y).value_counts()"
   ]
  },
  {
   "cell_type": "code",
   "execution_count": 13,
   "metadata": {},
   "outputs": [
    {
     "name": "stdout",
     "output_type": "stream",
     "text": [
      "- 16000 samples and 3 features\n",
      "- 10000 positive out of 20000 total before hiding labels\n",
      "- 3077 positive out of 16000 total after hiding labels\n"
     ]
    }
   ],
   "source": [
    "print('- %d samples and %d features' % (X.shape))\n",
    "print('- %d positive out of %d total before hiding labels' % (sum(df_downsampled.label), len(df_downsampled.label)))\n",
    "print('- %d positive out of %d total after hiding labels' % (sum(y), len(y)))"
   ]
  },
  {
   "cell_type": "markdown",
   "metadata": {},
   "source": [
    "# Trainning directly"
   ]
  },
  {
   "cell_type": "code",
   "execution_count": 14,
   "metadata": {},
   "outputs": [
    {
     "name": "stdout",
     "output_type": "stream",
     "text": [
      "Training Logistics Regression model ...\n",
      "Done\n"
     ]
    }
   ],
   "source": [
    "print('Training Logistics Regression model ...')\n",
    "\n",
    "model = LogisticRegression()\n",
    "\n",
    "model.fit(X, y)\n",
    "\n",
    "print('Done')"
   ]
  },
  {
   "cell_type": "code",
   "execution_count": 15,
   "metadata": {},
   "outputs": [
    {
     "name": "stdout",
     "output_type": "stream",
     "text": [
      "---- Logistics Regression ----\n",
      "                        pred_negative        pred_positive \n",
      "           true_negative       7923.0          0.0 \n",
      "           true_positive       8077.0          0.0 \n",
      "None\n",
      "\n",
      "Precision:  0.0\n",
      "Recall:  0.0\n",
      "Accuracy:  0.4951875\n",
      "f1_score:  0.0\n"
     ]
    }
   ],
   "source": [
    "print('---- {} ----'.format('Logistics Regression'))\n",
    "print(print_cm(sklearn.metrics.confusion_matrix(y_orig, model.predict(X)), labels=['negative', 'positive']))\n",
    "print('')\n",
    "print('Precision: ', precision_score(y_orig, model.predict(X)))\n",
    "print('Recall: ', recall_score(y_orig, model.predict(X)))\n",
    "print('Accuracy: ', accuracy_score(y_orig, model.predict(X)))\n",
    "print('f1_score: ', f1_score(y_orig, model.predict(X)))"
   ]
  },
  {
   "cell_type": "markdown",
   "metadata": {},
   "source": [
    "# Training by bagging"
   ]
  },
  {
   "cell_type": "code",
   "execution_count": 16,
   "metadata": {
    "scrolled": true
   },
   "outputs": [
    {
     "name": "stdout",
     "output_type": "stream",
     "text": [
      "Training bagging classifier...\n",
      "Done!\n",
      "Time: 2.294200036674738\n"
     ]
    }
   ],
   "source": [
    "print('Training bagging classifier...')\n",
    "\n",
    "pu_start = time.perf_counter()\n",
    "model = BaggingClassifierPU(LogisticRegression(),\n",
    "                         n_estimators = 50, \n",
    "                         n_jobs = -1, \n",
    "                         max_samples = sum(y) \n",
    "                        )\n",
    "model.fit(X, y)\n",
    "model.predict(x_data)\n",
    "pu_end = time.perf_counter()\n",
    "print('Done!')\n",
    "print('Time:', pu_end - pu_start)"
   ]
  },
  {
   "cell_type": "code",
   "execution_count": 17,
   "metadata": {},
   "outputs": [
    {
     "name": "stdout",
     "output_type": "stream",
     "text": [
      "---- PU Bagging ----\n",
      "                        pred_negative        pred_positive \n",
      "           true_negative       7903.0         20.0 \n",
      "           true_positive          0.0       8077.0 \n",
      "None\n",
      "\n",
      "Precision:  0.997529949363962\n",
      "Recall:  1.0\n",
      "Accuracy:  0.99875\n",
      "f1_score:  0.9987634475083468\n"
     ]
    }
   ],
   "source": [
    "#train data\n",
    "print('---- {} ----'.format('PU Bagging'))\n",
    "print(print_cm(sklearn.metrics.confusion_matrix(y_orig, model.predict(X)), labels=['negative', 'positive']))\n",
    "print('')\n",
    "print('Precision: ', precision_score(y_orig, model.predict(X)))\n",
    "print('Recall: ', recall_score(y_orig, model.predict(X)))\n",
    "print('Accuracy: ', accuracy_score(y_orig, model.predict(X)))\n",
    "print('f1_score: ', f1_score(y_orig, model.predict(X)))"
   ]
  },
  {
   "cell_type": "code",
   "execution_count": 18,
   "metadata": {},
   "outputs": [
    {
     "name": "stdout",
     "output_type": "stream",
     "text": [
      "False Negtive:\n",
      "Empty DataFrame\n",
      "Columns: [p1, p2, p3]\n",
      "Index: []\n",
      "False Positive:\n",
      "       p1  p2  p3\n",
      "11481  99  21   3\n",
      "16494  51  87   3\n",
      "16287  45  58   2\n",
      "18134  18  76   3\n",
      "10696  66  65   2\n",
      "14225  58  13   3\n",
      "17068   3  90   2\n",
      "18525   6  42   3\n",
      "12707  34  85   3\n",
      "18648  60  11   2\n",
      "19582  87   1   3\n",
      "19935  85  99   2\n",
      "10060  95  48   3\n",
      "14039  17  82   2\n",
      "10204  15  87   3\n",
      "17057  14  51   2\n",
      "12491  43  75   3\n",
      "19387  95  36   2\n",
      "17364  66  41   2\n",
      "19613  44  65   2\n"
     ]
    }
   ],
   "source": [
    "#print wrong predictions\n",
    "y_pre = model.predict(X)\n",
    "y_orig_index = y_orig.index.tolist()\n",
    "\n",
    "FN_index = []\n",
    "FT_index = []\n",
    "\n",
    "for i in range(len(y_orig)):\n",
    "    if y_orig.iloc[i] == 1 and y_pre[i] == 0 :\n",
    "        FN_index.append(y_orig_index[i])\n",
    "    if y_orig.iloc[i] == 0 and y_pre[i] == 1 :\n",
    "        FT_index.append(y_orig_index[i])\n",
    "        \n",
    "print(\"False Negtive:\")\n",
    "print(X.loc[FN_index])\n",
    "print(\"False Positive:\")\n",
    "print(X.loc[FT_index])"
   ]
  },
  {
   "cell_type": "code",
   "execution_count": 19,
   "metadata": {},
   "outputs": [
    {
     "name": "stdout",
     "output_type": "stream",
     "text": [
      "---- PU Bagging ----\n",
      "                        pred_negative        pred_positive \n",
      "           true_negative       2075.0          2.0 \n",
      "           true_positive          0.0       1923.0 \n",
      "None\n",
      "\n",
      "Precision:  0.9989610389610389\n",
      "Recall:  1.0\n",
      "Accuracy:  0.9995\n",
      "f1_score:  0.9994802494802495\n"
     ]
    }
   ],
   "source": [
    "#test data\n",
    "print('---- {} ----'.format('PU Bagging'))\n",
    "print(print_cm(sklearn.metrics.confusion_matrix(y_test, model.predict(x_test)), labels=['negative', 'positive']))\n",
    "print('')\n",
    "print('Precision: ', precision_score(y_test, model.predict(x_test)))\n",
    "print('Recall: ', recall_score(y_test, model.predict(x_test)))\n",
    "print('Accuracy: ', accuracy_score(y_test, model.predict(x_test)))\n",
    "print('f1_score: ', f1_score(y_test, model.predict(x_test)))"
   ]
  },
  {
   "cell_type": "code",
   "execution_count": 20,
   "metadata": {},
   "outputs": [
    {
     "name": "stdout",
     "output_type": "stream",
     "text": [
      "False Negtive:\n",
      "Empty DataFrame\n",
      "Columns: [p1, p2, p3]\n",
      "Index: []\n",
      "False Positive:\n",
      "       p1  p2  p3\n",
      "12803  46  70   2\n",
      "10538  75  55   2\n"
     ]
    }
   ],
   "source": [
    "#print wrong predictions\n",
    "y_test_pre = model.predict(x_test)\n",
    "y_test_index = y_test.index.tolist()\n",
    "\n",
    "FN_test_index = []\n",
    "FT_test_index = []\n",
    "\n",
    "for i in range(len(y_test)):\n",
    "    if y_test.iloc[i] == 1 and y_test_pre[i] == 0 :\n",
    "        FN_test_index.append(y_test_index[i])\n",
    "    if y_test.iloc[i] == 0 and y_test_pre[i] == 1 :\n",
    "        FT_test_index.append(y_test_index[i])\n",
    "\n",
    "print(\"False Negtive:\")\n",
    "print(x_test.loc[FN_test_index])\n",
    "print(\"False Positive:\")\n",
    "print(x_test.loc[FT_test_index])"
   ]
  },
  {
   "cell_type": "code",
   "execution_count": null,
   "metadata": {},
   "outputs": [],
   "source": []
  }
 ],
 "metadata": {
  "kernelspec": {
   "display_name": "Python 3",
   "language": "python",
   "name": "python3"
  },
  "language_info": {
   "codemirror_mode": {
    "name": "ipython",
    "version": 3
   },
   "file_extension": ".py",
   "mimetype": "text/x-python",
   "name": "python",
   "nbconvert_exporter": "python",
   "pygments_lexer": "ipython3",
   "version": "3.8.3"
  }
 },
 "nbformat": 4,
 "nbformat_minor": 1
}
