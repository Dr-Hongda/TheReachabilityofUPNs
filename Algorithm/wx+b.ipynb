{
 "cells": [
  {
   "cell_type": "code",
   "execution_count": 1,
   "metadata": {},
   "outputs": [],
   "source": [
    "import time\n",
    "import sklearn\n",
    "import numpy as np\n",
    "import pandas as pd\n",
    "\n",
    "import sys\n",
    "sys.path.append(\"..\")\n",
    "\n",
    "from sklearn.utils import resample\n",
    "from sklearn.model_selection import train_test_split\n",
    "from sklearn.metrics import accuracy_score, precision_score, recall_score, f1_score\n",
    "import matplotlib.pyplot as plt\n",
    "from baggingPU import BaggingClassifierPU"
   ]
  },
  {
   "cell_type": "code",
   "execution_count": 2,
   "metadata": {},
   "outputs": [],
   "source": [
    "def print_cm(cm, labels, hide_zeroes=False, hide_diagonal=False, hide_threshold=None):\n",
    "    columnwidth = max([len(x) for x in labels]) + 4\n",
    "    empty_cell = \" \" * columnwidth\n",
    "    print(\"    \" + empty_cell, end=' ')\n",
    "    for label in labels:\n",
    "        print(\"%{0}s\".format(columnwidth) % 'pred_' + label, end=\" \")\n",
    "    print()\n",
    "\n",
    "    for i, label1 in enumerate(labels):\n",
    "        print(\"    %{0}s\".format(columnwidth) % 'true_' + label1, end=\" \")\n",
    "        for j in range(len(labels)):\n",
    "            cell = \"%{0}.1f\".format(columnwidth) % cm[i, j]\n",
    "            if hide_zeroes:\n",
    "                cell = cell if float(cm[i, j]) != 0 else empty_cell\n",
    "            if hide_diagonal:\n",
    "                cell = cell if i != j else empty_cell\n",
    "            if hide_threshold:\n",
    "                cell = cell if cm[i, j] > hide_threshold else empty_cell\n",
    "            if cell:\n",
    "                print(cell, end=\" \")\n",
    "        print()"
   ]
  },
  {
   "cell_type": "code",
   "execution_count": 3,
   "metadata": {},
   "outputs": [
    {
     "name": "stdout",
     "output_type": "stream",
     "text": [
      "       p1  p2  p3  p4    p5\n",
      "0       1   0   0   0     0\n",
      "1       0   0   1   0     0\n",
      "2       0   1   0   0     0\n",
      "3       0   0   0   1     0\n",
      "4       0   0   0   1     1\n",
      "...    ..  ..  ..  ..   ...\n",
      "19995   1   1   1   1  5390\n",
      "19996   1   0   1   1  3007\n",
      "19997   1   0   1   0  1186\n",
      "19998   1   1   1   1  3334\n",
      "19999   1   0   0   1  7254\n",
      "\n",
      "[20000 rows x 5 columns]\n",
      "0        1\n",
      "1        1\n",
      "2        1\n",
      "3        1\n",
      "4        1\n",
      "        ..\n",
      "19995    0\n",
      "19996    0\n",
      "19997    0\n",
      "19998    0\n",
      "19999    0\n",
      "Name: label, Length: 20000, dtype: int64\n"
     ]
    }
   ],
   "source": [
    "n_input = 14\n",
    "n_sample = int(1e5)\n",
    "\n",
    "\n",
    "df_raw = pd.read_csv('../data/3x+1.csv')\n",
    "\n",
    "df_X = df_raw.iloc[:,:-1]\n",
    "df_y = df_raw.iloc[:,-1]\n",
    "\n",
    "\n",
    "print(df_X)\n",
    "print(df_y)"
   ]
  },
  {
   "cell_type": "code",
   "execution_count": 4,
   "metadata": {},
   "outputs": [
    {
     "name": "stdout",
     "output_type": "stream",
     "text": [
      "20000\n",
      "1110101001011\n"
     ]
    }
   ],
   "source": [
    "print(len(np.unique(np.array(df_X),axis = 0)))\n",
    "\n",
    "print(bin(7499).replace('0b',''))"
   ]
  },
  {
   "cell_type": "code",
   "execution_count": 5,
   "metadata": {},
   "outputs": [],
   "source": [
    "def transformer(x):\n",
    "    x_2 = bin(x).replace('0b','')\n",
    "    x_raw = list(str(x_2))\n",
    "    x = [0] * (n_input - len(x_raw)) + x_raw\n",
    "    return pd.Series(x)"
   ]
  },
  {
   "cell_type": "code",
   "execution_count": 6,
   "metadata": {},
   "outputs": [
    {
     "name": "stdout",
     "output_type": "stream",
     "text": [
      "[0 1 1 1 0 0 0 1 0 1 0 1 1 0]\n"
     ]
    }
   ],
   "source": [
    "a = df_X.iloc[-1,-1]\n",
    "b = transformer(a).values.astype(np.int)\n",
    "print(b)"
   ]
  },
  {
   "cell_type": "code",
   "execution_count": 7,
   "metadata": {},
   "outputs": [
    {
     "name": "stdout",
     "output_type": "stream",
     "text": [
      "['p5-0', 'p5-1', 'p5-2', 'p5-3', 'p5-4', 'p5-5', 'p5-6', 'p5-7', 'p5-8', 'p5-9', 'p5-10', 'p5-11', 'p5-12', 'p5-13']\n"
     ]
    }
   ],
   "source": [
    "colums = []\n",
    "col_df_raw = df_X.columns.values.tolist()\n",
    "i = 4\n",
    "for j in range(n_input):\n",
    "    str1 = col_df_raw[i] + '-' + str(j)\n",
    "    colums.append(str1)\n",
    "print(colums)"
   ]
  },
  {
   "cell_type": "code",
   "execution_count": 8,
   "metadata": {},
   "outputs": [
    {
     "name": "stdout",
     "output_type": "stream",
     "text": [
      "Empty DataFrame\n",
      "Columns: [p5-0, p5-1, p5-2, p5-3, p5-4, p5-5, p5-6, p5-7, p5-8, p5-9, p5-10, p5-11, p5-12, p5-13]\n",
      "Index: []\n"
     ]
    }
   ],
   "source": [
    "df_new = pd.DataFrame(columns = colums)\n",
    "print(df_new)"
   ]
  },
  {
   "cell_type": "code",
   "execution_count": 9,
   "metadata": {},
   "outputs": [
    {
     "name": "stdout",
     "output_type": "stream",
     "text": [
      "      p5-0 p5-1 p5-2 p5-3 p5-4 p5-5 p5-6 p5-7 p5-8 p5-9 p5-10 p5-11 p5-12  \\\n",
      "0        0    0    0    0    0    0    0    0    0    0     0     0     0   \n",
      "1        0    0    0    0    0    0    0    0    0    0     0     0     0   \n",
      "2        0    0    0    0    0    0    0    0    0    0     0     0     0   \n",
      "3        0    0    0    0    0    0    0    0    0    0     0     0     0   \n",
      "4        0    0    0    0    0    0    0    0    0    0     0     0     0   \n",
      "...    ...  ...  ...  ...  ...  ...  ...  ...  ...  ...   ...   ...   ...   \n",
      "19995    0    1    0    1    0    1    0    0    0    0     1     1     1   \n",
      "19996    0    0    1    0    1    1    1    0    1    1     1     1     1   \n",
      "19997    0    0    0    1    0    0    1    0    1    0     0     0     1   \n",
      "19998    0    0    1    1    0    1    0    0    0    0     0     1     1   \n",
      "19999    0    1    1    1    0    0    0    1    0    1     0     1     1   \n",
      "\n",
      "      p5-13  \n",
      "0         0  \n",
      "1         0  \n",
      "2         0  \n",
      "3         0  \n",
      "4         1  \n",
      "...     ...  \n",
      "19995     0  \n",
      "19996     1  \n",
      "19997     0  \n",
      "19998     0  \n",
      "19999     0  \n",
      "\n",
      "[20000 rows x 14 columns]\n"
     ]
    }
   ],
   "source": [
    "for i in range(20000):\n",
    "    a = df_X.iloc[i,4]\n",
    "    b = transformer(a).values.astype(np.int)\n",
    "    se = pd.Series(b, colums)\n",
    "    df_new.loc[i] = se\n",
    "print(df_new)"
   ]
  },
  {
   "cell_type": "code",
   "execution_count": 10,
   "metadata": {},
   "outputs": [
    {
     "name": "stdout",
     "output_type": "stream",
     "text": [
      "       p1  p2  p3  p4 p5-0 p5-1 p5-2 p5-3 p5-4 p5-5 p5-6 p5-7 p5-8 p5-9 p5-10  \\\n",
      "0       1   0   0   0    0    0    0    0    0    0    0    0    0    0     0   \n",
      "1       0   0   1   0    0    0    0    0    0    0    0    0    0    0     0   \n",
      "2       0   1   0   0    0    0    0    0    0    0    0    0    0    0     0   \n",
      "3       0   0   0   1    0    0    0    0    0    0    0    0    0    0     0   \n",
      "4       0   0   0   1    0    0    0    0    0    0    0    0    0    0     0   \n",
      "...    ..  ..  ..  ..  ...  ...  ...  ...  ...  ...  ...  ...  ...  ...   ...   \n",
      "19995   1   1   1   1    0    1    0    1    0    1    0    0    0    0     1   \n",
      "19996   1   0   1   1    0    0    1    0    1    1    1    0    1    1     1   \n",
      "19997   1   0   1   0    0    0    0    1    0    0    1    0    1    0     0   \n",
      "19998   1   1   1   1    0    0    1    1    0    1    0    0    0    0     0   \n",
      "19999   1   0   0   1    0    1    1    1    0    0    0    1    0    1     0   \n",
      "\n",
      "      p5-11 p5-12 p5-13  \n",
      "0         0     0     0  \n",
      "1         0     0     0  \n",
      "2         0     0     0  \n",
      "3         0     0     0  \n",
      "4         0     0     1  \n",
      "...     ...   ...   ...  \n",
      "19995     1     1     0  \n",
      "19996     1     1     1  \n",
      "19997     0     1     0  \n",
      "19998     1     1     0  \n",
      "19999     1     1     0  \n",
      "\n",
      "[20000 rows x 18 columns]\n"
     ]
    }
   ],
   "source": [
    "df_final = pd.concat([df_X.iloc[:,:-1],df_new],axis=1)\n",
    "print(df_final)"
   ]
  },
  {
   "cell_type": "code",
   "execution_count": 11,
   "metadata": {},
   "outputs": [
    {
     "name": "stdout",
     "output_type": "stream",
     "text": [
      "[[1 0 0 ... 0 0 0]\n",
      " [0 0 1 ... 0 0 0]\n",
      " [0 1 0 ... 0 0 0]\n",
      " ...\n",
      " [1 0 1 ... 0 1 0]\n",
      " [1 1 1 ... 1 1 0]\n",
      " [1 0 0 ... 1 1 0]]\n"
     ]
    }
   ],
   "source": [
    "from sklearn.decomposition import PCA\n",
    "dffinal = np.array(df_final)\n",
    "print(dffinal)"
   ]
  },
  {
   "cell_type": "code",
   "execution_count": 12,
   "metadata": {},
   "outputs": [
    {
     "name": "stdout",
     "output_type": "stream",
     "text": [
      "[[1 0 0 ... 0 0 0]\n",
      " [0 0 1 ... 0 0 0]\n",
      " [0 1 0 ... 0 0 0]\n",
      " ...\n",
      " [1 0 1 ... 0 1 0]\n",
      " [1 1 1 ... 1 1 0]\n",
      " [1 0 0 ... 1 1 0]]\n",
      "[[ 0.00413557  0.1449494  -0.01446507 ... -0.2398823  -0.35288369\n",
      "   0.12676176]\n",
      " [-0.70921627  0.04156085 -0.11079623 ... -0.31961482 -0.37830568\n",
      "   0.14534373]\n",
      " [ 0.00526533  0.14179301 -0.00810289 ... -0.23950759 -0.35055533\n",
      "   0.12560601]\n",
      " ...\n",
      " [-0.70064728  0.90545759 -0.24614229 ... -0.74328322 -0.5787547\n",
      "  -0.18513219]\n",
      " [ 0.00538038  1.01964044  0.56022694 ...  0.27041423  0.31304559\n",
      "  -0.61735039]\n",
      " [ 0.70861097  0.27696915  0.00836457 ... -0.34717201  0.45242314\n",
      "  -0.75720712]]\n"
     ]
    }
   ],
   "source": [
    "pca = PCA(n_components=10)\n",
    "\n",
    "dfraw4D = pca.fit_transform(dffinal[:,:]) \n",
    "print(dffinal)\n",
    "print(dfraw4D)"
   ]
  },
  {
   "cell_type": "code",
   "execution_count": 13,
   "metadata": {},
   "outputs": [
    {
     "name": "stdout",
     "output_type": "stream",
     "text": [
      "[0.1057102  0.06783682 0.06776781 0.06723643 0.06491253 0.0632845\n",
      " 0.06247499 0.06211123 0.06196076 0.06180182]\n"
     ]
    }
   ],
   "source": [
    "print(pca.explained_variance_ratio_)"
   ]
  },
  {
   "cell_type": "code",
   "execution_count": 14,
   "metadata": {},
   "outputs": [
    {
     "name": "stdout",
     "output_type": "stream",
     "text": [
      "              0         1         2         3         4         5         6  \\\n",
      "0      0.004136  0.144949 -0.014465  0.037175  0.682697  0.925760  0.547266   \n",
      "1     -0.709216  0.041561 -0.110796 -0.385104  0.542553  0.919952  0.537883   \n",
      "2      0.005265  0.141793 -0.008103  0.026870  0.688312  0.926434  0.545253   \n",
      "3      0.704815  0.042959 -0.116697 -0.398849  0.533592  0.920207  0.529785   \n",
      "4      0.704402 -0.013491 -0.149675 -0.412516  0.545991  0.562369  0.601882   \n",
      "...         ...       ...       ...       ...       ...       ...       ...   \n",
      "19995  0.006682  0.325161 -0.589376  1.073248  0.588939  0.975439 -0.218809   \n",
      "19996 -0.003434 -0.007519  0.976972  0.663474 -0.681273 -0.490172 -0.852711   \n",
      "19997 -0.700647  0.905458 -0.246142  0.304370  0.726010 -0.012484 -0.058517   \n",
      "19998  0.005380  1.019640  0.560227  0.802950  0.576903  1.132988 -0.241154   \n",
      "19999  0.708611  0.276969  0.008365  0.006728  0.827419  0.243331 -0.579848   \n",
      "\n",
      "              7         8         9  \n",
      "0     -0.239882 -0.352884  0.126762  \n",
      "1     -0.319615 -0.378306  0.145344  \n",
      "2     -0.239508 -0.350555  0.125606  \n",
      "3     -0.313747 -0.381177  0.147020  \n",
      "4     -0.083810  0.168599  0.476146  \n",
      "...         ...       ...       ...  \n",
      "19995  0.889610  0.262222 -0.827986  \n",
      "19996  0.617251  0.008063  0.027712  \n",
      "19997 -0.743283 -0.578755 -0.185132  \n",
      "19998  0.270414  0.313046 -0.617350  \n",
      "19999 -0.347172  0.452423 -0.757207  \n",
      "\n",
      "[20000 rows x 10 columns]\n"
     ]
    }
   ],
   "source": [
    "df_aa = pd.DataFrame(dfraw4D)\n",
    "print(df_aa)"
   ]
  },
  {
   "cell_type": "code",
   "execution_count": 15,
   "metadata": {},
   "outputs": [
    {
     "name": "stdout",
     "output_type": "stream",
     "text": [
      "16000\n",
      "4000\n",
      "1    8077\n",
      "0    7923\n",
      "Name: label, dtype: int64\n",
      "Has null values False\n",
      "0    2077\n",
      "1    1923\n",
      "Name: label, dtype: int64\n",
      "Has null values False\n"
     ]
    }
   ],
   "source": [
    "#use PCA\n",
    "\n",
    "x_data = df_aa.iloc[:,:].copy()\n",
    "y_data = df_y.iloc[:].copy()\n",
    "\n",
    "x_train, x_test, y_train, y_test = train_test_split(x_data, y_data, test_size=0.2, random_state=7)\n",
    "\n",
    "x_train_input = pd.concat([x_train,y_train],axis=1)\n",
    "x_test_input = pd.concat([x_test,y_test],axis=1)\n",
    "\n",
    "print(len(x_train_input))\n",
    "print(len(x_test_input))\n",
    "\n",
    "print(x_train_input.label.value_counts())\n",
    "print('Has null values', x_train_input.isnull().values.any())\n",
    "\n",
    "print(x_test_input.label.value_counts())\n",
    "print('Has null values', x_test_input.isnull().values.any())"
   ]
  },
  {
   "cell_type": "code",
   "execution_count": 15,
   "metadata": {},
   "outputs": [
    {
     "name": "stdout",
     "output_type": "stream",
     "text": [
      "16000\n",
      "4000\n",
      "1    8077\n",
      "0    7923\n",
      "Name: label, dtype: int64\n",
      "Has null values False\n",
      "0    2077\n",
      "1    1923\n",
      "Name: label, dtype: int64\n",
      "Has null values False\n"
     ]
    }
   ],
   "source": [
    "#do not use PCA\n",
    "x_data = df_final.iloc[:,:].copy()\n",
    "y_data = df_y.iloc[:].copy()\n",
    "\n",
    "x_train, x_test, y_train, y_test = train_test_split(x_data, y_data, test_size=0.2, random_state=7)\n",
    "\n",
    "x_train_input = pd.concat([x_train,y_train],axis=1)\n",
    "x_test_input = pd.concat([x_test,y_test],axis=1)\n",
    "\n",
    "print(len(x_train_input))\n",
    "print(len(x_test_input))\n",
    "\n",
    "print(x_train_input.label.value_counts())\n",
    "print('Has null values', x_train_input.isnull().values.any())\n",
    "\n",
    "print(x_test_input.label.value_counts())\n",
    "print('Has null values', x_test_input.isnull().values.any())"
   ]
  },
  {
   "cell_type": "code",
   "execution_count": 16,
   "metadata": {},
   "outputs": [
    {
     "data": {
      "text/html": [
       "<div>\n",
       "<style scoped>\n",
       "    .dataframe tbody tr th:only-of-type {\n",
       "        vertical-align: middle;\n",
       "    }\n",
       "\n",
       "    .dataframe tbody tr th {\n",
       "        vertical-align: top;\n",
       "    }\n",
       "\n",
       "    .dataframe thead th {\n",
       "        text-align: right;\n",
       "    }\n",
       "</style>\n",
       "<table border=\"1\" class=\"dataframe\">\n",
       "  <thead>\n",
       "    <tr style=\"text-align: right;\">\n",
       "      <th></th>\n",
       "      <th>p1</th>\n",
       "      <th>p2</th>\n",
       "      <th>p3</th>\n",
       "      <th>p4</th>\n",
       "      <th>p5-0</th>\n",
       "      <th>p5-1</th>\n",
       "      <th>p5-2</th>\n",
       "      <th>p5-3</th>\n",
       "      <th>p5-4</th>\n",
       "      <th>p5-5</th>\n",
       "      <th>p5-6</th>\n",
       "      <th>p5-7</th>\n",
       "      <th>p5-8</th>\n",
       "      <th>p5-9</th>\n",
       "      <th>p5-10</th>\n",
       "      <th>p5-11</th>\n",
       "      <th>p5-12</th>\n",
       "      <th>p5-13</th>\n",
       "      <th>label</th>\n",
       "    </tr>\n",
       "  </thead>\n",
       "  <tbody>\n",
       "    <tr>\n",
       "      <th>8118</th>\n",
       "      <td>0</td>\n",
       "      <td>0</td>\n",
       "      <td>0</td>\n",
       "      <td>1</td>\n",
       "      <td>0</td>\n",
       "      <td>1</td>\n",
       "      <td>0</td>\n",
       "      <td>1</td>\n",
       "      <td>1</td>\n",
       "      <td>1</td>\n",
       "      <td>1</td>\n",
       "      <td>1</td>\n",
       "      <td>0</td>\n",
       "      <td>0</td>\n",
       "      <td>0</td>\n",
       "      <td>1</td>\n",
       "      <td>1</td>\n",
       "      <td>1</td>\n",
       "      <td>1</td>\n",
       "    </tr>\n",
       "    <tr>\n",
       "      <th>10171</th>\n",
       "      <td>0</td>\n",
       "      <td>0</td>\n",
       "      <td>1</td>\n",
       "      <td>0</td>\n",
       "      <td>0</td>\n",
       "      <td>0</td>\n",
       "      <td>0</td>\n",
       "      <td>0</td>\n",
       "      <td>0</td>\n",
       "      <td>1</td>\n",
       "      <td>0</td>\n",
       "      <td>0</td>\n",
       "      <td>0</td>\n",
       "      <td>0</td>\n",
       "      <td>0</td>\n",
       "      <td>0</td>\n",
       "      <td>0</td>\n",
       "      <td>1</td>\n",
       "      <td>0</td>\n",
       "    </tr>\n",
       "    <tr>\n",
       "      <th>9399</th>\n",
       "      <td>0</td>\n",
       "      <td>0</td>\n",
       "      <td>1</td>\n",
       "      <td>0</td>\n",
       "      <td>0</td>\n",
       "      <td>1</td>\n",
       "      <td>1</td>\n",
       "      <td>0</td>\n",
       "      <td>1</td>\n",
       "      <td>1</td>\n",
       "      <td>1</td>\n",
       "      <td>0</td>\n",
       "      <td>0</td>\n",
       "      <td>0</td>\n",
       "      <td>1</td>\n",
       "      <td>0</td>\n",
       "      <td>0</td>\n",
       "      <td>0</td>\n",
       "      <td>1</td>\n",
       "    </tr>\n",
       "    <tr>\n",
       "      <th>12669</th>\n",
       "      <td>0</td>\n",
       "      <td>0</td>\n",
       "      <td>1</td>\n",
       "      <td>0</td>\n",
       "      <td>0</td>\n",
       "      <td>0</td>\n",
       "      <td>1</td>\n",
       "      <td>1</td>\n",
       "      <td>1</td>\n",
       "      <td>1</td>\n",
       "      <td>1</td>\n",
       "      <td>0</td>\n",
       "      <td>1</td>\n",
       "      <td>0</td>\n",
       "      <td>0</td>\n",
       "      <td>1</td>\n",
       "      <td>0</td>\n",
       "      <td>0</td>\n",
       "      <td>0</td>\n",
       "    </tr>\n",
       "    <tr>\n",
       "      <th>18809</th>\n",
       "      <td>1</td>\n",
       "      <td>1</td>\n",
       "      <td>1</td>\n",
       "      <td>1</td>\n",
       "      <td>0</td>\n",
       "      <td>1</td>\n",
       "      <td>0</td>\n",
       "      <td>0</td>\n",
       "      <td>0</td>\n",
       "      <td>0</td>\n",
       "      <td>0</td>\n",
       "      <td>1</td>\n",
       "      <td>0</td>\n",
       "      <td>0</td>\n",
       "      <td>0</td>\n",
       "      <td>0</td>\n",
       "      <td>0</td>\n",
       "      <td>0</td>\n",
       "      <td>0</td>\n",
       "    </tr>\n",
       "    <tr>\n",
       "      <th>13869</th>\n",
       "      <td>0</td>\n",
       "      <td>0</td>\n",
       "      <td>1</td>\n",
       "      <td>0</td>\n",
       "      <td>0</td>\n",
       "      <td>1</td>\n",
       "      <td>0</td>\n",
       "      <td>1</td>\n",
       "      <td>1</td>\n",
       "      <td>0</td>\n",
       "      <td>1</td>\n",
       "      <td>0</td>\n",
       "      <td>1</td>\n",
       "      <td>0</td>\n",
       "      <td>1</td>\n",
       "      <td>1</td>\n",
       "      <td>0</td>\n",
       "      <td>0</td>\n",
       "      <td>0</td>\n",
       "    </tr>\n",
       "    <tr>\n",
       "      <th>3320</th>\n",
       "      <td>0</td>\n",
       "      <td>0</td>\n",
       "      <td>0</td>\n",
       "      <td>1</td>\n",
       "      <td>0</td>\n",
       "      <td>0</td>\n",
       "      <td>1</td>\n",
       "      <td>0</td>\n",
       "      <td>0</td>\n",
       "      <td>1</td>\n",
       "      <td>1</td>\n",
       "      <td>0</td>\n",
       "      <td>1</td>\n",
       "      <td>1</td>\n",
       "      <td>1</td>\n",
       "      <td>0</td>\n",
       "      <td>0</td>\n",
       "      <td>0</td>\n",
       "      <td>1</td>\n",
       "    </tr>\n",
       "    <tr>\n",
       "      <th>14689</th>\n",
       "      <td>0</td>\n",
       "      <td>0</td>\n",
       "      <td>1</td>\n",
       "      <td>0</td>\n",
       "      <td>0</td>\n",
       "      <td>1</td>\n",
       "      <td>1</td>\n",
       "      <td>0</td>\n",
       "      <td>1</td>\n",
       "      <td>1</td>\n",
       "      <td>0</td>\n",
       "      <td>1</td>\n",
       "      <td>1</td>\n",
       "      <td>1</td>\n",
       "      <td>1</td>\n",
       "      <td>0</td>\n",
       "      <td>1</td>\n",
       "      <td>0</td>\n",
       "      <td>0</td>\n",
       "    </tr>\n",
       "    <tr>\n",
       "      <th>13087</th>\n",
       "      <td>0</td>\n",
       "      <td>0</td>\n",
       "      <td>1</td>\n",
       "      <td>0</td>\n",
       "      <td>0</td>\n",
       "      <td>1</td>\n",
       "      <td>0</td>\n",
       "      <td>0</td>\n",
       "      <td>1</td>\n",
       "      <td>0</td>\n",
       "      <td>0</td>\n",
       "      <td>0</td>\n",
       "      <td>0</td>\n",
       "      <td>1</td>\n",
       "      <td>0</td>\n",
       "      <td>1</td>\n",
       "      <td>1</td>\n",
       "      <td>1</td>\n",
       "      <td>0</td>\n",
       "    </tr>\n",
       "    <tr>\n",
       "      <th>15992</th>\n",
       "      <td>0</td>\n",
       "      <td>1</td>\n",
       "      <td>0</td>\n",
       "      <td>1</td>\n",
       "      <td>0</td>\n",
       "      <td>1</td>\n",
       "      <td>0</td>\n",
       "      <td>1</td>\n",
       "      <td>1</td>\n",
       "      <td>1</td>\n",
       "      <td>0</td>\n",
       "      <td>1</td>\n",
       "      <td>0</td>\n",
       "      <td>1</td>\n",
       "      <td>1</td>\n",
       "      <td>1</td>\n",
       "      <td>1</td>\n",
       "      <td>1</td>\n",
       "      <td>0</td>\n",
       "    </tr>\n",
       "  </tbody>\n",
       "</table>\n",
       "</div>"
      ],
      "text/plain": [
       "       p1  p2  p3  p4 p5-0 p5-1 p5-2 p5-3 p5-4 p5-5 p5-6 p5-7 p5-8 p5-9 p5-10  \\\n",
       "8118    0   0   0   1    0    1    0    1    1    1    1    1    0    0     0   \n",
       "10171   0   0   1   0    0    0    0    0    0    1    0    0    0    0     0   \n",
       "9399    0   0   1   0    0    1    1    0    1    1    1    0    0    0     1   \n",
       "12669   0   0   1   0    0    0    1    1    1    1    1    0    1    0     0   \n",
       "18809   1   1   1   1    0    1    0    0    0    0    0    1    0    0     0   \n",
       "13869   0   0   1   0    0    1    0    1    1    0    1    0    1    0     1   \n",
       "3320    0   0   0   1    0    0    1    0    0    1    1    0    1    1     1   \n",
       "14689   0   0   1   0    0    1    1    0    1    1    0    1    1    1     1   \n",
       "13087   0   0   1   0    0    1    0    0    1    0    0    0    0    1     0   \n",
       "15992   0   1   0   1    0    1    0    1    1    1    0    1    0    1     1   \n",
       "\n",
       "      p5-11 p5-12 p5-13  label  \n",
       "8118      1     1     1      1  \n",
       "10171     0     0     1      0  \n",
       "9399      0     0     0      1  \n",
       "12669     1     0     0      0  \n",
       "18809     0     0     0      0  \n",
       "13869     1     0     0      0  \n",
       "3320      0     0     0      1  \n",
       "14689     0     1     0      0  \n",
       "13087     1     1     1      0  \n",
       "15992     1     1     1      0  "
      ]
     },
     "execution_count": 16,
     "metadata": {},
     "output_type": "execute_result"
    }
   ],
   "source": [
    "x_train_input.head(10)"
   ]
  },
  {
   "cell_type": "code",
   "execution_count": 17,
   "metadata": {},
   "outputs": [],
   "source": [
    "df = x_train_input.copy()\n",
    "\n",
    "NON_LBL = [c for c in df.columns if c != 'label']\n",
    "X = df[NON_LBL]\n",
    "y = df['label']\n",
    "\n",
    "y_orig = y.copy()\n",
    "\n",
    "hidden_size = 3000\n",
    "y.loc[\n",
    "    np.random.choice(\n",
    "        y[y == 1].index, \n",
    "        replace = False, \n",
    "        size = hidden_size\n",
    "    )\n",
    "] = 0"
   ]
  },
  {
   "cell_type": "code",
   "execution_count": 18,
   "metadata": {},
   "outputs": [
    {
     "data": {
      "text/plain": [
       "0    10923\n",
       "1     5077\n",
       "Name: label, dtype: int64"
      ]
     },
     "execution_count": 18,
     "metadata": {},
     "output_type": "execute_result"
    }
   ],
   "source": [
    "pd.Series(y).value_counts()"
   ]
  },
  {
   "cell_type": "code",
   "execution_count": 19,
   "metadata": {},
   "outputs": [
    {
     "name": "stdout",
     "output_type": "stream",
     "text": [
      "- 16000 samples and 18 features\n",
      "- 10000 positive out of 20000 total before hiding labels\n",
      "- 5077 positive out of 16000 total after hiding labels\n"
     ]
    }
   ],
   "source": [
    "print('- %d samples and %d features' % (X.shape))\n",
    "print('- %d positive out of %d total before hiding labels' % (sum(df_raw.label), len(df_raw.label)))\n",
    "print('- %d positive out of %d total after hiding labels' % (sum(y), len(y)))"
   ]
  },
  {
   "cell_type": "markdown",
   "metadata": {},
   "source": [
    "# Trainning directly"
   ]
  },
  {
   "cell_type": "code",
   "execution_count": 20,
   "metadata": {},
   "outputs": [
    {
     "name": "stdout",
     "output_type": "stream",
     "text": [
      "       p1  p2  p3  p4 p5-0 p5-1 p5-2 p5-3 p5-4 p5-5 p5-6 p5-7 p5-8 p5-9 p5-10  \\\n",
      "8118    0   0   0   1    0    1    0    1    1    1    1    1    0    0     0   \n",
      "10171   0   0   1   0    0    0    0    0    0    1    0    0    0    0     0   \n",
      "9399    0   0   1   0    0    1    1    0    1    1    1    0    0    0     1   \n",
      "12669   0   0   1   0    0    0    1    1    1    1    1    0    1    0     0   \n",
      "18809   1   1   1   1    0    1    0    0    0    0    0    1    0    0     0   \n",
      "...    ..  ..  ..  ..  ...  ...  ...  ...  ...  ...  ...  ...  ...  ...   ...   \n",
      "13927   0   0   1   0    0    1    0    1    1    1    0    0    0    0     0   \n",
      "919     0   0   1   0    0    0    0    0    1    0    1    0    1    1     0   \n",
      "5699    0   0   1   0    0    1    0    0    0    0    1    0    1    1     0   \n",
      "10742   0   0   0   1    0    0    0    1    0    0    0    1    0    1     1   \n",
      "16921   1   1   1   1    0    0    1    0    1    1    0    0    1    1     1   \n",
      "\n",
      "      p5-11 p5-12 p5-13  \n",
      "8118      1     1     1  \n",
      "10171     0     0     1  \n",
      "9399      0     0     0  \n",
      "12669     1     0     0  \n",
      "18809     0     0     0  \n",
      "...     ...   ...   ...  \n",
      "13927     0     1     1  \n",
      "919       0     0     0  \n",
      "5699      0     0     1  \n",
      "10742     0     0     0  \n",
      "16921     0     1     0  \n",
      "\n",
      "[16000 rows x 18 columns]\n",
      "8118     1\n",
      "10171    0\n",
      "9399     0\n",
      "12669    0\n",
      "18809    0\n",
      "        ..\n",
      "13927    0\n",
      "919      0\n",
      "5699     0\n",
      "10742    0\n",
      "16921    0\n",
      "Name: label, Length: 16000, dtype: int64\n"
     ]
    }
   ],
   "source": [
    "print(X)\n",
    "print(y)"
   ]
  },
  {
   "cell_type": "code",
   "execution_count": 21,
   "metadata": {},
   "outputs": [
    {
     "name": "stdout",
     "output_type": "stream",
     "text": [
      "Training MLP model ...\n",
      "Done\n"
     ]
    }
   ],
   "source": [
    "print('Training MLP model ...')\n",
    "\n",
    "from sklearn.neural_network import MLPClassifier\n",
    "\n",
    "model = MLPClassifier(solver='adam', alpha=1e-5,hidden_layer_sizes=(30,30), random_state=1,max_iter=200)\n",
    "\n",
    "model.fit(X, y)\n",
    "\n",
    "print('Done')"
   ]
  },
  {
   "cell_type": "code",
   "execution_count": 22,
   "metadata": {},
   "outputs": [
    {
     "data": {
      "text/plain": [
       "array([1, 0, 1, ..., 1, 0, 0])"
      ]
     },
     "execution_count": 22,
     "metadata": {},
     "output_type": "execute_result"
    }
   ],
   "source": [
    "model.predict(X)"
   ]
  },
  {
   "cell_type": "code",
   "execution_count": 23,
   "metadata": {},
   "outputs": [
    {
     "name": "stdout",
     "output_type": "stream",
     "text": [
      "---- MLP model ----\n",
      "                        pred_negative        pred_positive \n",
      "           true_negative       7528.0        395.0 \n",
      "           true_positive       1486.0       6591.0 \n",
      "None\n",
      "\n",
      "Precision:  0.9434583452619525\n",
      "Recall:  0.8160207998019067\n",
      "Accuracy:  0.8824375\n",
      "f1_score:  0.8751244771957778\n"
     ]
    }
   ],
   "source": [
    "print('---- {} ----'.format('MLP model'))\n",
    "print(print_cm(sklearn.metrics.confusion_matrix(y_orig, model.predict(X)), labels=['negative', 'positive']))\n",
    "print('')\n",
    "print('Precision: ', precision_score(y_orig, model.predict(X)))\n",
    "print('Recall: ', recall_score(y_orig, model.predict(X)))\n",
    "print('Accuracy: ', accuracy_score(y_orig, model.predict(X)))\n",
    "print('f1_score: ', f1_score(y_orig, model.predict(X)))"
   ]
  },
  {
   "cell_type": "markdown",
   "metadata": {},
   "source": [
    "# Training by bagging"
   ]
  },
  {
   "cell_type": "code",
   "execution_count": 24,
   "metadata": {},
   "outputs": [],
   "source": [
    "from sklearn.linear_model import LogisticRegression\n",
    "model1 = LogisticRegression()\n",
    "\n",
    "from sklearn.tree import DecisionTreeClassifier\n",
    "model2 = DecisionTreeClassifier()\n",
    "\n",
    "from sklearn.neural_network import MLPClassifier\n",
    "model3 = MLPClassifier(solver='adam', alpha=1e-5,hidden_layer_sizes=(30,30), random_state=1,max_iter=300)\n",
    "\n",
    "from sklearn import svm\n",
    "model4 = svm.LinearSVC()\n",
    "\n",
    "from sklearn.naive_bayes import GaussianNB\n",
    "model5 = GaussianNB()\n",
    "\n",
    "from sklearn.ensemble import RandomForestClassifier\n",
    "model6 = RandomForestClassifier(n_estimators = 50,n_jobs = -1)\n",
    "\n",
    "import xgboost as xgb\n",
    "model7 = xgb.XGBClassifier()\n"
   ]
  },
  {
   "cell_type": "code",
   "execution_count": 25,
   "metadata": {},
   "outputs": [],
   "source": [
    "model_list = [model1, model2, model3, model4, model5, model6, model7]\n",
    "f1 = np.zeros([len(model_list)],dtype=np.float32)"
   ]
  },
  {
   "cell_type": "code",
   "execution_count": 34,
   "metadata": {
    "scrolled": true
   },
   "outputs": [
    {
     "name": "stdout",
     "output_type": "stream",
     "text": [
      "---- LogisticRegression(C=1.0, class_weight=None, dual=False, fit_intercept=True,\n",
      "                   intercept_scaling=1, l1_ratio=None, max_iter=100,\n",
      "                   multi_class='auto', n_jobs=None, penalty='l2',\n",
      "                   random_state=None, solver='lbfgs', tol=0.0001, verbose=0,\n",
      "                   warm_start=False) ----\n",
      "Time: 1.2592580090276897\n",
      "0.8044225310025399\n",
      "---- DecisionTreeClassifier(ccp_alpha=0.0, class_weight=None, criterion='gini',\n",
      "                       max_depth=None, max_features=None, max_leaf_nodes=None,\n",
      "                       min_impurity_decrease=0.0, min_impurity_split=None,\n",
      "                       min_samples_leaf=1, min_samples_split=2,\n",
      "                       min_weight_fraction_leaf=0.0, presort='deprecated',\n",
      "                       random_state=None, splitter='best') ----\n",
      "Time: 0.5238404399715364\n",
      "0.7333672560742908\n",
      "---- MLPClassifier(activation='relu', alpha=1e-05, batch_size='auto', beta_1=0.9,\n",
      "              beta_2=0.999, early_stopping=False, epsilon=1e-08,\n",
      "              hidden_layer_sizes=(30, 30), learning_rate='constant',\n",
      "              learning_rate_init=0.001, max_fun=15000, max_iter=300,\n",
      "              momentum=0.9, n_iter_no_change=10, nesterovs_momentum=True,\n",
      "              power_t=0.5, random_state=1, shuffle=True, solver='adam',\n",
      "              tol=0.0001, validation_fraction=0.1, verbose=False,\n",
      "              warm_start=False) ----\n",
      "Time: 12.058725350012537\n",
      "0.995360920393394\n",
      "---- LinearSVC(C=1.0, class_weight=None, dual=True, fit_intercept=True,\n",
      "          intercept_scaling=1, loss='squared_hinge', max_iter=1000,\n",
      "          multi_class='ovr', penalty='l2', random_state=None, tol=0.0001,\n",
      "          verbose=0) ----\n",
      "Time: 1.2768254060065374\n",
      "0.8044820717131473\n",
      "---- GaussianNB(priors=None, var_smoothing=1e-09) ----\n",
      "Time: 0.48131607403047383\n",
      "0.7956258312398403\n",
      "---- RandomForestClassifier(bootstrap=True, ccp_alpha=0.0, class_weight=None,\n",
      "                       criterion='gini', max_depth=None, max_features='auto',\n",
      "                       max_leaf_nodes=None, max_samples=None,\n",
      "                       min_impurity_decrease=0.0, min_impurity_split=None,\n",
      "                       min_samples_leaf=1, min_samples_split=2,\n",
      "                       min_weight_fraction_leaf=0.0, n_estimators=50, n_jobs=-1,\n",
      "                       oob_score=False, random_state=None, verbose=0,\n",
      "                       warm_start=False) ----\n",
      "Time: 2.917255680949893\n",
      "0.7200507321572697\n",
      "---- XGBClassifier(base_score=None, booster=None, colsample_bylevel=None,\n",
      "              colsample_bynode=None, colsample_bytree=None, gamma=None,\n",
      "              gpu_id=None, importance_type='gain', interaction_constraints=None,\n",
      "              learning_rate=None, max_delta_step=None, max_depth=None,\n",
      "              min_child_weight=None, missing=nan, monotone_constraints=None,\n",
      "              n_estimators=100, n_jobs=None, num_parallel_tree=None,\n",
      "              objective='binary:logistic', random_state=None, reg_alpha=None,\n",
      "              reg_lambda=None, scale_pos_weight=None, subsample=None,\n",
      "              tree_method=None, use_label_encoder=True,\n",
      "              validate_parameters=None, verbosity=None) ----\n",
      "Time: 6.948558842006605\n",
      "0.765751211631664\n",
      "[0.80442256 0.73336726 0.9953609  0.80448204 0.7956258  0.72005075\n",
      " 0.7657512 ]\n"
     ]
    }
   ],
   "source": [
    "for i,j in zip(model_list,range(len(model_list))):\n",
    "    pu_start = time.perf_counter()\n",
    "    model = BaggingClassifierPU(i,\n",
    "                         n_jobs = -1, \n",
    "                         max_samples = sum(y)  \n",
    "                        )\n",
    "    model.fit(X,y)\n",
    "    pre = model.predict(X)\n",
    "    pu_end = time.perf_counter()\n",
    "    print('---- {} ----'.format(i))\n",
    "    print('Time:', pu_end - pu_start)\n",
    "    print(f1_score(y_orig, pre))\n",
    "    f1[j] = f1_score(y_orig, pre)\n",
    "\n",
    "print(f1)"
   ]
  },
  {
   "cell_type": "code",
   "execution_count": 35,
   "metadata": {},
   "outputs": [
    {
     "name": "stdout",
     "output_type": "stream",
     "text": [
      "BaggingClassifierPU(base_estimator=XGBClassifier(base_score=None, booster=None,\n",
      "                                                 colsample_bylevel=None,\n",
      "                                                 colsample_bynode=None,\n",
      "                                                 colsample_bytree=None,\n",
      "                                                 gamma=None, gpu_id=None,\n",
      "                                                 importance_type='gain',\n",
      "                                                 interaction_constraints=None,\n",
      "                                                 learning_rate=None,\n",
      "                                                 max_delta_step=None,\n",
      "                                                 max_depth=None,\n",
      "                                                 min_child_weight=None,\n",
      "                                                 missing=nan,\n",
      "                                                 monotone_constraints=None,\n",
      "                                                 n_estimators=100...\n",
      "                                                 objective='binary:logistic',\n",
      "                                                 random_state=None,\n",
      "                                                 reg_alpha=None,\n",
      "                                                 reg_lambda=None,\n",
      "                                                 scale_pos_weight=None,\n",
      "                                                 subsample=None,\n",
      "                                                 tree_method=None,\n",
      "                                                 use_label_encoder=True,\n",
      "                                                 validate_parameters=None,\n",
      "                                                 verbosity=None),\n",
      "                    bootstrap=True, bootstrap_features=False, max_features=1.0,\n",
      "                    max_samples=5077, n_estimators=10, n_jobs=-1,\n",
      "                    oob_score=True, random_state=None, verbose=0,\n",
      "                    warm_start=False)\n"
     ]
    }
   ],
   "source": [
    "best_model = BaggingClassifierPU(model_list[np.argmax(f1)],\n",
    "                         n_jobs = -1, \n",
    "                         max_samples = sum(y)  \n",
    "                        )\n",
    "best_model.fit(X,y)\n",
    "pre = best_model.predict(X)\n",
    "print(model)"
   ]
  },
  {
   "cell_type": "code",
   "execution_count": 36,
   "metadata": {
    "scrolled": true
   },
   "outputs": [
    {
     "name": "stdout",
     "output_type": "stream",
     "text": [
      "---- PU Bagging ----\n",
      "                        pred_negative        pred_positive \n",
      "           true_negative       7887.0         36.0 \n",
      "           true_positive          7.0       8070.0 \n",
      "None\n",
      "\n",
      "Precision:  0.9955588452997779\n",
      "Recall:  0.999133341587223\n",
      "Accuracy:  0.9973125\n",
      "f1_score:  0.9973428906877587\n"
     ]
    }
   ],
   "source": [
    "#train data\n",
    "print('---- {} ----'.format('PU Bagging'))\n",
    "print(print_cm(sklearn.metrics.confusion_matrix(y_orig, pre), labels=['negative', 'positive']))\n",
    "print('')\n",
    "print('Precision: ', precision_score(y_orig, pre))\n",
    "print('Recall: ', recall_score(y_orig, pre))\n",
    "print('Accuracy: ', accuracy_score(y_orig, pre))\n",
    "print('f1_score: ', f1_score(y_orig, pre))"
   ]
  },
  {
   "cell_type": "code",
   "execution_count": 37,
   "metadata": {},
   "outputs": [
    {
     "name": "stdout",
     "output_type": "stream",
     "text": [
      "False Negtive:\n",
      "      p1  p2  p3  p4 p5-0 p5-1 p5-2 p5-3 p5-4 p5-5 p5-6 p5-7 p5-8 p5-9 p5-10  \\\n",
      "9399   0   0   1   0    0    1    1    0    1    1    1    0    0    0     1   \n",
      "4446   0   0   0   1    0    0    1    1    0    1    0    0    0    0     0   \n",
      "9445   0   0   1   0    0    1    1    0    1    1    1    0    1    0     1   \n",
      "9620   0   0   0   1    0    1    1    1    0    0    0    0    1    0     1   \n",
      "6806   0   0   0   1    0    1    0    0    1    1    1    1    1    0     1   \n",
      "...   ..  ..  ..  ..  ...  ...  ...  ...  ...  ...  ...  ...  ...  ...   ...   \n",
      "2758   0   0   0   1    0    0    1    0    0    0    0    0    0    1     0   \n",
      "349    0   0   1   0    0    0    0    0    0    1    0    0    0    0     0   \n",
      "1439   0   0   1   0    0    0    0    1    0    0    0    0    1    1     0   \n",
      "4859   0   0   1   0    0    0    1    1    1    0    0    0    1    1     1   \n",
      "6118   0   0   0   1    0    1    0    0    0    1    1    1    1    0     1   \n",
      "\n",
      "     p5-11 p5-12 p5-13  \n",
      "9399     0     0     0  \n",
      "4446     1     0     1  \n",
      "9445     0     1     1  \n",
      "9620     1     0     1  \n",
      "6806     1     1     1  \n",
      "...    ...   ...   ...  \n",
      "2758     0     1     1  \n",
      "349      1     0     1  \n",
      "1439     1     1     0  \n",
      "4859     0     1     1  \n",
      "6118     0     1     1  \n",
      "\n",
      "[967 rows x 18 columns]\n",
      "False Positive:\n",
      "       p1  p2  p3  p4 p5-0 p5-1 p5-2 p5-3 p5-4 p5-5 p5-6 p5-7 p5-8 p5-9 p5-10  \\\n",
      "10171   0   0   1   0    0    0    0    0    0    1    0    0    0    0     0   \n",
      "12669   0   0   1   0    0    0    1    1    1    1    1    0    1    0     0   \n",
      "13869   0   0   1   0    0    1    0    1    1    0    1    0    1    0     1   \n",
      "14689   0   0   1   0    0    1    1    0    1    1    0    1    1    1     1   \n",
      "13087   0   0   1   0    0    1    0    0    1    0    0    0    0    1     0   \n",
      "...    ..  ..  ..  ..  ...  ...  ...  ...  ...  ...  ...  ...  ...  ...   ...   \n",
      "12224   0   0   0   1    0    0    1    1    0    1    0    0    0    0     0   \n",
      "11967   0   0   1   0    0    0    1    0    1    1    1    0    0    0     0   \n",
      "13387   0   0   1   0    0    1    0    0    1    1    1    1    0    1     1   \n",
      "13192   0   0   0   1    0    1    0    0    1    0    1    0    1    1     0   \n",
      "10742   0   0   0   1    0    0    0    1    0    0    0    1    0    1     1   \n",
      "\n",
      "      p5-11 p5-12 p5-13  \n",
      "10171     0     0     1  \n",
      "12669     1     0     0  \n",
      "13869     1     0     0  \n",
      "14689     0     1     0  \n",
      "13087     1     1     1  \n",
      "...     ...   ...   ...  \n",
      "12224     1     1     1  \n",
      "11967     1     1     1  \n",
      "13387     0     0     1  \n",
      "13192     0     1     1  \n",
      "10742     0     0     0  \n",
      "\n",
      "[3383 rows x 18 columns]\n"
     ]
    }
   ],
   "source": [
    "#print wrong predictions\n",
    "y_pre = model.predict(X)\n",
    "y_orig_index = y_orig.index.tolist()\n",
    "\n",
    "FN_index = []\n",
    "FT_index = []\n",
    "\n",
    "for i in range(len(y_orig)):\n",
    "    if y_orig.iloc[i] == 1 and y_pre[i] == 0 :\n",
    "        FN_index.append(y_orig_index[i])\n",
    "    if y_orig.iloc[i] == 0 and y_pre[i] == 1 :\n",
    "        FT_index.append(y_orig_index[i])\n",
    "        \n",
    "print(\"False Negtive:\")\n",
    "print(X.loc[FN_index])\n",
    "print(\"False Positive:\")\n",
    "print(X.loc[FT_index])"
   ]
  },
  {
   "cell_type": "code",
   "execution_count": 38,
   "metadata": {
    "scrolled": true
   },
   "outputs": [
    {
     "name": "stdout",
     "output_type": "stream",
     "text": [
      "---- PU Bagging ----\n",
      "                        pred_negative        pred_positive \n",
      "           true_negative       2058.0         19.0 \n",
      "           true_positive          1.0       1922.0 \n",
      "None\n",
      "\n",
      "Precision:  0.9902112313240597\n",
      "Recall:  0.999479979199168\n",
      "Accuracy:  0.995\n",
      "f1_score:  0.994824016563147\n"
     ]
    }
   ],
   "source": [
    "pre = best_model.predict(x_test)\n",
    "#test data\n",
    "print('---- {} ----'.format('PU Bagging'))\n",
    "print(print_cm(sklearn.metrics.confusion_matrix(y_test, pre), labels=['negative', 'positive']))\n",
    "print('')\n",
    "print('Precision: ', precision_score(y_test, pre))\n",
    "print('Recall: ', recall_score(y_test, pre))\n",
    "print('Accuracy: ', accuracy_score(y_test, pre))\n",
    "print('f1_score: ', f1_score(y_test, pre))"
   ]
  },
  {
   "cell_type": "code",
   "execution_count": 39,
   "metadata": {},
   "outputs": [
    {
     "name": "stdout",
     "output_type": "stream",
     "text": [
      "False Negtive:\n",
      "      p1  p2  p3  p4 p5-0 p5-1 p5-2 p5-3 p5-4 p5-5 p5-6 p5-7 p5-8 p5-9 p5-10  \\\n",
      "5093   0   0   1   0    0    0    1    1    1    0    1    1    1    0     1   \n",
      "2853   0   0   1   0    0    0    1    0    0    0    0    1    0    1     1   \n",
      "4752   0   0   0   1    0    0    1    1    0    1    1    1    1    0     1   \n",
      "4536   0   0   0   1    0    0    1    1    0    1    0    1    0    0     1   \n",
      "4000   0   0   0   1    0    0    1    0    1    1    1    0    1    1     0   \n",
      "...   ..  ..  ..  ..  ...  ...  ...  ...  ...  ...  ...  ...  ...  ...   ...   \n",
      "9223   0   0   1   0    0    1    1    0    1    1    0    0    0    0     0   \n",
      "2293   0   0   1   0    0    0    0    1    1    0    1    0    1    1     0   \n",
      "4990   0   0   0   1    0    0    1    1    1    0    1    0    0    1     1   \n",
      "4548   0   0   0   1    0    0    1    1    0    1    0    1    0    1     0   \n",
      "997    0   0   1   0    0    0    0    0    1    0    1    1    1    0     1   \n",
      "\n",
      "     p5-11 p5-12 p5-13  \n",
      "5093     0     1     1  \n",
      "2853     0     1     1  \n",
      "4752     0     1     0  \n",
      "4536     0     0     0  \n",
      "4000     1     1     0  \n",
      "...    ...   ...   ...  \n",
      "9223     1     0     0  \n",
      "2293     1     1     1  \n",
      "4990     1     0     1  \n",
      "4548     0     0     1  \n",
      "997      0     1     1  \n",
      "\n",
      "[286 rows x 18 columns]\n",
      "False Positive:\n",
      "       p1  p2  p3  p4 p5-0 p5-1 p5-2 p5-3 p5-4 p5-5 p5-6 p5-7 p5-8 p5-9 p5-10  \\\n",
      "14356   0   0   0   1    0    1    1    0    0    1    1    0    0    0     0   \n",
      "12153   0   0   1   0    0    0    1    1    0    0    1    0    0    1     1   \n",
      "12313   0   0   1   0    0    0    1    1    0    1    1    0    0    0     1   \n",
      "11496   0   0   0   1    0    0    1    0    0    0    1    1    0    0     0   \n",
      "13375   0   0   1   0    0    1    0    0    1    1    1    1    0    0     0   \n",
      "...    ..  ..  ..  ..  ...  ...  ...  ...  ...  ...  ...  ...  ...  ...   ...   \n",
      "13595   0   0   1   0    0    1    0    1    0    1    0    0    0    1     0   \n",
      "14274   0   0   0   1    0    1    1    0    0    1    0    0    0    0     1   \n",
      "10336   0   0   0   1    0    0    0    0    0    1    1    1    1    1     0   \n",
      "14232   0   0   0   1    0    1    1    0    0    0    1    1    0    0     1   \n",
      "13339   0   0   1   0    0    1    0    0    1    1    1    0    0    1     0   \n",
      "\n",
      "      p5-11 p5-12 p5-13  \n",
      "14356     1     0     1  \n",
      "12153     1     1     0  \n",
      "12313     1     1     0  \n",
      "11496     0     1     1  \n",
      "13375     1     1     1  \n",
      "...     ...   ...   ...  \n",
      "13595     0     0     1  \n",
      "14274     0     1     0  \n",
      "10336     1     1     1  \n",
      "14232     0     1     1  \n",
      "13339     0     0     1  \n",
      "\n",
      "[1007 rows x 18 columns]\n"
     ]
    }
   ],
   "source": [
    "#print wrong predictions\n",
    "y_test_pre = model.predict(x_test)\n",
    "y_test_index = y_test.index.tolist()\n",
    "\n",
    "FN_test_index = []\n",
    "FT_test_index = []\n",
    "\n",
    "for i in range(len(y_test)):\n",
    "    if y_test.iloc[i] == 1 and y_test_pre[i] == 0 :\n",
    "        FN_test_index.append(y_test_index[i])\n",
    "    if y_test.iloc[i] == 0 and y_test_pre[i] == 1 :\n",
    "        FT_test_index.append(y_test_index[i])\n",
    "\n",
    "print(\"False Negtive:\")\n",
    "print(x_test.loc[FN_test_index])\n",
    "print(\"False Positive:\")\n",
    "print(x_test.loc[FT_test_index])"
   ]
  },
  {
   "cell_type": "code",
   "execution_count": null,
   "metadata": {},
   "outputs": [],
   "source": []
  }
 ],
 "metadata": {
  "kernelspec": {
   "display_name": "Python 3",
   "language": "python",
   "name": "python3"
  },
  "language_info": {
   "codemirror_mode": {
    "name": "ipython",
    "version": 3
   },
   "file_extension": ".py",
   "mimetype": "text/x-python",
   "name": "python",
   "nbconvert_exporter": "python",
   "pygments_lexer": "ipython3",
   "version": "3.8.8"
  }
 },
 "nbformat": 4,
 "nbformat_minor": 4
}
