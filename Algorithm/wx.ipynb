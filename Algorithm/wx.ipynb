{
 "cells": [
  {
   "cell_type": "code",
   "execution_count": 28,
   "metadata": {},
   "outputs": [],
   "source": [
    "#!/usr/bin/python3.7"
   ]
  },
  {
   "cell_type": "code",
   "execution_count": 29,
   "metadata": {},
   "outputs": [],
   "source": [
    "import numpy as np\n",
    "import pandas as pd\n",
    "\n",
    "import time\n",
    "import sklearn\n",
    "import numpy as np\n",
    "import pandas as pd\n",
    "\n",
    "import sys\n",
    "sys.path.append(\"..\")\n",
    "from baggingPU import BaggingClassifierPU\n",
    "\n",
    "from sklearn.utils import resample\n",
    "from sklearn.model_selection import train_test_split\n",
    "from sklearn.metrics import accuracy_score, precision_score, recall_score, f1_score"
   ]
  },
  {
   "cell_type": "code",
   "execution_count": 30,
   "metadata": {},
   "outputs": [],
   "source": [
    "def print_cm(cm, labels, hide_zeroes=False, hide_diagonal=False, hide_threshold=None):\n",
    "    columnwidth = max([len(x) for x in labels]) + 4\n",
    "    empty_cell = \" \" * columnwidth\n",
    "    print(\"    \" + empty_cell, end=' ')\n",
    "    for label in labels:\n",
    "        print(\"%{0}s\".format(columnwidth) % 'pred_' + label, end=\" \")\n",
    "    print()\n",
    "\n",
    "    for i, label1 in enumerate(labels):\n",
    "        print(\"    %{0}s\".format(columnwidth) % 'true_' + label1, end=\" \")\n",
    "        for j in range(len(labels)):\n",
    "            cell = \"%{0}.1f\".format(columnwidth) % cm[i, j]\n",
    "            if hide_zeroes:\n",
    "                cell = cell if float(cm[i, j]) != 0 else empty_cell\n",
    "            if hide_diagonal:\n",
    "                cell = cell if i != j else empty_cell\n",
    "            if hide_threshold:\n",
    "                cell = cell if cm[i, j] > hide_threshold else empty_cell\n",
    "            if cell:\n",
    "                print(cell, end=\" \")\n",
    "        print()"
   ]
  },
  {
   "cell_type": "code",
   "execution_count": 3,
   "metadata": {},
   "outputs": [
    {
     "name": "stdout",
     "output_type": "stream",
     "text": [
      "       p1     p2\n",
      "0       1      0\n",
      "1       1      3\n",
      "2       1      6\n",
      "3       1      9\n",
      "4       1     12\n",
      "...    ..    ...\n",
      "29994   1  29992\n",
      "29995   1  29993\n",
      "29996   1  29995\n",
      "29997   1  29996\n",
      "29998   1  29998\n",
      "\n",
      "[29999 rows x 2 columns]\n",
      "0        1\n",
      "1        1\n",
      "2        1\n",
      "3        1\n",
      "4        1\n",
      "        ..\n",
      "29994    0\n",
      "29995    0\n",
      "29996    0\n",
      "29997    0\n",
      "29998    0\n",
      "Name: label, Length: 29999, dtype: int64\n"
     ]
    }
   ],
   "source": [
    "n_input = 10\n",
    "n_sample = int(1e5)\n",
    "\n",
    "\n",
    "df_raw = pd.read_csv('../data/1-place3.csv')\n",
    "\n",
    "df_X = df_raw.iloc[:,:-1]\n",
    "df_y = df_raw.iloc[:,-1]\n",
    "\n",
    "\n",
    "print(df_X)\n",
    "print(df_y)"
   ]
  },
  {
   "cell_type": "code",
   "execution_count": 4,
   "metadata": {},
   "outputs": [],
   "source": [
    "def transformer(x):\n",
    "    x_raw = list(str(x))\n",
    "    x = [0] * (n_input - len(x_raw)) + x_raw\n",
    "    return pd.Series(x)"
   ]
  },
  {
   "cell_type": "code",
   "execution_count": 5,
   "metadata": {},
   "outputs": [
    {
     "name": "stdout",
     "output_type": "stream",
     "text": [
      "[0 0 0 0 0 0 0 0 3 0]\n"
     ]
    }
   ],
   "source": [
    "a = df_X.iloc[10,-1]\n",
    "b = transformer(a).values.astype(np.int)\n",
    "print(b)"
   ]
  },
  {
   "cell_type": "code",
   "execution_count": 6,
   "metadata": {},
   "outputs": [
    {
     "name": "stdout",
     "output_type": "stream",
     "text": [
      "['p2-0', 'p2-1', 'p2-2', 'p2-3', 'p2-4', 'p2-5', 'p2-6', 'p2-7', 'p2-8', 'p2-9']\n"
     ]
    }
   ],
   "source": [
    "colums = []\n",
    "col_df_raw = df_X.columns.values.tolist()\n",
    "i = 1\n",
    "for j in range(len(b)):\n",
    "    str1 = col_df_raw[i] + '-' + str(j)\n",
    "    colums.append(str1)\n",
    "print(colums)"
   ]
  },
  {
   "cell_type": "code",
   "execution_count": 7,
   "metadata": {},
   "outputs": [
    {
     "name": "stdout",
     "output_type": "stream",
     "text": [
      "Empty DataFrame\n",
      "Columns: [p2-0, p2-1, p2-2, p2-3, p2-4, p2-5, p2-6, p2-7, p2-8, p2-9]\n",
      "Index: []\n"
     ]
    }
   ],
   "source": [
    "df_new = pd.DataFrame(columns = colums)\n",
    "print(df_new)"
   ]
  },
  {
   "cell_type": "code",
   "execution_count": 12,
   "metadata": {},
   "outputs": [
    {
     "name": "stdout",
     "output_type": "stream",
     "text": [
      "      p2-0 p2-1 p2-2 p2-3 p2-4 p2-5 p2-6 p2-7 p2-8 p2-9\n",
      "0        0    0    0    0    0    0    0    0    0    0\n",
      "1        0    0    0    0    0    0    0    0    0    3\n",
      "2        0    0    0    0    0    0    0    0    0    6\n",
      "3        0    0    0    0    0    0    0    0    0    9\n",
      "4        0    0    0    0    0    0    0    0    1    2\n",
      "...    ...  ...  ...  ...  ...  ...  ...  ...  ...  ...\n",
      "29994    0    0    0    0    0    2    9    9    9    2\n",
      "29995    0    0    0    0    0    2    9    9    9    3\n",
      "29996    0    0    0    0    0    2    9    9    9    5\n",
      "29997    0    0    0    0    0    2    9    9    9    6\n",
      "29998    0    0    0    0    0    2    9    9    9    8\n",
      "\n",
      "[29999 rows x 10 columns]\n"
     ]
    }
   ],
   "source": [
    "for i in range(29999):\n",
    "    a = df_X.iloc[i,1]\n",
    "    b = transformer(a).values.astype(np.int)\n",
    "    se = pd.Series(b, colums)\n",
    "    df_new.loc[i] = se\n",
    "print(df_new)"
   ]
  },
  {
   "cell_type": "code",
   "execution_count": 13,
   "metadata": {},
   "outputs": [
    {
     "name": "stdout",
     "output_type": "stream",
     "text": [
      "       p1 p2-0 p2-1 p2-2 p2-3 p2-4 p2-5 p2-6 p2-7 p2-8 p2-9\n",
      "0       1    0    0    0    0    0    0    0    0    0    0\n",
      "1       1    0    0    0    0    0    0    0    0    0    3\n",
      "2       1    0    0    0    0    0    0    0    0    0    6\n",
      "3       1    0    0    0    0    0    0    0    0    0    9\n",
      "4       1    0    0    0    0    0    0    0    0    1    2\n",
      "...    ..  ...  ...  ...  ...  ...  ...  ...  ...  ...  ...\n",
      "29994   1    0    0    0    0    0    2    9    9    9    2\n",
      "29995   1    0    0    0    0    0    2    9    9    9    3\n",
      "29996   1    0    0    0    0    0    2    9    9    9    5\n",
      "29997   1    0    0    0    0    0    2    9    9    9    6\n",
      "29998   1    0    0    0    0    0    2    9    9    9    8\n",
      "\n",
      "[29999 rows x 11 columns]\n"
     ]
    }
   ],
   "source": [
    "df_final = pd.concat([df_X.iloc[:,0],df_new],axis=1)\n",
    "print(df_final)"
   ]
  },
  {
   "cell_type": "code",
   "execution_count": 14,
   "metadata": {},
   "outputs": [
    {
     "name": "stdout",
     "output_type": "stream",
     "text": [
      "[[1 0 0 ... 0 0 0]\n",
      " [1 0 0 ... 0 0 3]\n",
      " [1 0 0 ... 0 0 6]\n",
      " ...\n",
      " [1 0 0 ... 9 9 5]\n",
      " [1 0 0 ... 9 9 6]\n",
      " [1 0 0 ... 9 9 8]]\n"
     ]
    }
   ],
   "source": [
    "from sklearn.decomposition import PCA\n",
    "dffinal = np.array(df_final)\n",
    "print(dffinal)"
   ]
  },
  {
   "cell_type": "code",
   "execution_count": 15,
   "metadata": {},
   "outputs": [
    {
     "name": "stdout",
     "output_type": "stream",
     "text": [
      "[[1 0 0 ... 0 0 0]\n",
      " [1 0 0 ... 0 0 3]\n",
      " [1 0 0 ... 0 0 6]\n",
      " ...\n",
      " [1 0 0 ... 9 9 5]\n",
      " [1 0 0 ... 9 9 6]\n",
      " [1 0 0 ... 9 9 8]]\n",
      "[[-1.70053140e-11  2.42258833e-13  4.24852119e-12 -8.99966041e+00]\n",
      " [ 1.25782604e+00 -1.82951616e+00 -1.34934957e+00 -7.49966041e+00]\n",
      " [ 2.51565208e+00 -3.65903233e+00 -2.69869914e+00 -5.99966041e+00]\n",
      " ...\n",
      " [-1.67710139e+00  2.43935488e+00  1.79913276e+00  7.00026043e+00]\n",
      " [-1.25782604e+00  1.82951616e+00  1.34934957e+00  7.50026043e+00]\n",
      " [-4.19275347e-01  6.09838721e-01  4.49783190e-01  8.50026043e+00]]\n"
     ]
    }
   ],
   "source": [
    "pca = PCA(n_components=4)\n",
    "\n",
    "dfraw4D = pca.fit_transform(dffinal[:,:]) \n",
    "print(dffinal)\n",
    "print(dfraw4D)"
   ]
  },
  {
   "cell_type": "code",
   "execution_count": 16,
   "metadata": {},
   "outputs": [
    {
     "name": "stdout",
     "output_type": "stream",
     "text": [
      "[0.2450694 0.2450694 0.2450694 0.2449892]\n"
     ]
    }
   ],
   "source": [
    "print(pca.explained_variance_ratio_)"
   ]
  },
  {
   "cell_type": "code",
   "execution_count": 17,
   "metadata": {},
   "outputs": [
    {
     "name": "stdout",
     "output_type": "stream",
     "text": [
      "                  0             1             2        3\n",
      "0     -1.700531e-11  2.422588e-13  4.248521e-12 -8.99966\n",
      "1      1.257826e+00 -1.829516e+00 -1.349350e+00 -7.49966\n",
      "2      2.515652e+00 -3.659032e+00 -2.698699e+00 -5.99966\n",
      "3      3.773478e+00 -5.488548e+00 -4.048049e+00 -4.49966\n",
      "4      6.765090e-01 -5.419122e-01 -1.413742e+00 -7.49966\n",
      "...             ...           ...           ...      ...\n",
      "29994 -2.934927e+00  4.268871e+00  3.148482e+00  5.50026\n",
      "29995 -2.515652e+00  3.659032e+00  2.698699e+00  6.00026\n",
      "29996 -1.677101e+00  2.439355e+00  1.799133e+00  7.00026\n",
      "29997 -1.257826e+00  1.829516e+00  1.349350e+00  7.50026\n",
      "29998 -4.192753e-01  6.098387e-01  4.497832e-01  8.50026\n",
      "\n",
      "[29999 rows x 4 columns]\n"
     ]
    }
   ],
   "source": [
    "df_aa = pd.DataFrame(dfraw4D)\n",
    "print(df_aa)"
   ]
  },
  {
   "cell_type": "code",
   "execution_count": 18,
   "metadata": {},
   "outputs": [
    {
     "name": "stdout",
     "output_type": "stream",
     "text": [
      "23999\n",
      "6000\n",
      "0    15943\n",
      "1     8056\n",
      "Name: label, dtype: int64\n",
      "Has null values False\n",
      "0    4056\n",
      "1    1944\n",
      "Name: label, dtype: int64\n",
      "Has null values False\n"
     ]
    }
   ],
   "source": [
    "#use PCA\n",
    "\n",
    "x_data = df_aa.iloc[:,:].copy()\n",
    "y_data = df_y.iloc[:].copy()\n",
    "\n",
    "x_train, x_test, y_train, y_test = train_test_split(x_data, y_data, test_size=0.2, random_state=7)\n",
    "\n",
    "x_train_input = pd.concat([x_train,y_train],axis=1)\n",
    "x_test_input = pd.concat([x_test,y_test],axis=1)\n",
    "\n",
    "print(len(x_train_input))\n",
    "print(len(x_test_input))\n",
    "\n",
    "print(x_train_input.label.value_counts())\n",
    "print('Has null values', x_train_input.isnull().values.any())\n",
    "\n",
    "print(x_test_input.label.value_counts())\n",
    "print('Has null values', x_test_input.isnull().values.any())"
   ]
  },
  {
   "cell_type": "code",
   "execution_count": 15,
   "metadata": {},
   "outputs": [
    {
     "name": "stdout",
     "output_type": "stream",
     "text": [
      "16000\n",
      "4000\n",
      "1    8077\n",
      "0    7923\n",
      "Name: label, dtype: int64\n",
      "Has null values False\n",
      "0    2077\n",
      "1    1923\n",
      "Name: label, dtype: int64\n",
      "Has null values False\n"
     ]
    }
   ],
   "source": [
    "#do not use PCA\n",
    "x_data = df_final.iloc[:,:].copy()\n",
    "y_data = df_y.iloc[:].copy()\n",
    "\n",
    "x_train, x_test, y_train, y_test = train_test_split(x_data, y_data, test_size=0.2, random_state=7)\n",
    "\n",
    "x_train_input = pd.concat([x_train,y_train],axis=1)\n",
    "x_test_input = pd.concat([x_test,y_test],axis=1)\n",
    "\n",
    "print(len(x_train_input))\n",
    "print(len(x_test_input))\n",
    "\n",
    "print(x_train_input.label.value_counts())\n",
    "print('Has null values', x_train_input.isnull().values.any())\n",
    "\n",
    "print(x_test_input.label.value_counts())\n",
    "print('Has null values', x_test_input.isnull().values.any())"
   ]
  },
  {
   "cell_type": "code",
   "execution_count": 19,
   "metadata": {},
   "outputs": [
    {
     "data": {
      "text/html": [
       "<div>\n",
       "<style scoped>\n",
       "    .dataframe tbody tr th:only-of-type {\n",
       "        vertical-align: middle;\n",
       "    }\n",
       "\n",
       "    .dataframe tbody tr th {\n",
       "        vertical-align: top;\n",
       "    }\n",
       "\n",
       "    .dataframe thead th {\n",
       "        text-align: right;\n",
       "    }\n",
       "</style>\n",
       "<table border=\"1\" class=\"dataframe\">\n",
       "  <thead>\n",
       "    <tr style=\"text-align: right;\">\n",
       "      <th></th>\n",
       "      <th>0</th>\n",
       "      <th>1</th>\n",
       "      <th>2</th>\n",
       "      <th>3</th>\n",
       "      <th>label</th>\n",
       "    </tr>\n",
       "  </thead>\n",
       "  <tbody>\n",
       "    <tr>\n",
       "      <th>27501</th>\n",
       "      <td>-3.474239</td>\n",
       "      <td>0.743583</td>\n",
       "      <td>-0.356013</td>\n",
       "      <td>-1.49974</td>\n",
       "      <td>0</td>\n",
       "    </tr>\n",
       "    <tr>\n",
       "      <th>18921</th>\n",
       "      <td>-1.229484</td>\n",
       "      <td>3.998665</td>\n",
       "      <td>-2.121096</td>\n",
       "      <td>-0.99970</td>\n",
       "      <td>0</td>\n",
       "    </tr>\n",
       "    <tr>\n",
       "      <th>2101</th>\n",
       "      <td>-1.754960</td>\n",
       "      <td>-3.000580</td>\n",
       "      <td>2.432413</td>\n",
       "      <td>-2.99966</td>\n",
       "      <td>1</td>\n",
       "    </tr>\n",
       "    <tr>\n",
       "      <th>8480</th>\n",
       "      <td>-2.424130</td>\n",
       "      <td>2.116927</td>\n",
       "      <td>2.095761</td>\n",
       "      <td>-2.49974</td>\n",
       "      <td>1</td>\n",
       "    </tr>\n",
       "    <tr>\n",
       "      <th>11552</th>\n",
       "      <td>3.424722</td>\n",
       "      <td>-4.014369</td>\n",
       "      <td>-2.481152</td>\n",
       "      <td>-0.99966</td>\n",
       "      <td>0</td>\n",
       "    </tr>\n",
       "    <tr>\n",
       "      <th>18821</th>\n",
       "      <td>-0.909070</td>\n",
       "      <td>0.355337</td>\n",
       "      <td>-0.217547</td>\n",
       "      <td>-3.99970</td>\n",
       "      <td>0</td>\n",
       "    </tr>\n",
       "    <tr>\n",
       "      <th>24444</th>\n",
       "      <td>4.154418</td>\n",
       "      <td>1.002302</td>\n",
       "      <td>-1.932926</td>\n",
       "      <td>1.00026</td>\n",
       "      <td>0</td>\n",
       "    </tr>\n",
       "    <tr>\n",
       "      <th>13384</th>\n",
       "      <td>-1.934507</td>\n",
       "      <td>-1.136655</td>\n",
       "      <td>-5.264570</td>\n",
       "      <td>0.50034</td>\n",
       "      <td>0</td>\n",
       "    </tr>\n",
       "    <tr>\n",
       "      <th>23145</th>\n",
       "      <td>-0.102531</td>\n",
       "      <td>-5.321287</td>\n",
       "      <td>3.228528</td>\n",
       "      <td>3.50030</td>\n",
       "      <td>0</td>\n",
       "    </tr>\n",
       "    <tr>\n",
       "      <th>7633</th>\n",
       "      <td>4.739405</td>\n",
       "      <td>2.002495</td>\n",
       "      <td>-2.743730</td>\n",
       "      <td>5.00026</td>\n",
       "      <td>1</td>\n",
       "    </tr>\n",
       "  </tbody>\n",
       "</table>\n",
       "</div>"
      ],
      "text/plain": [
       "              0         1         2        3  label\n",
       "27501 -3.474239  0.743583 -0.356013 -1.49974      0\n",
       "18921 -1.229484  3.998665 -2.121096 -0.99970      0\n",
       "2101  -1.754960 -3.000580  2.432413 -2.99966      1\n",
       "8480  -2.424130  2.116927  2.095761 -2.49974      1\n",
       "11552  3.424722 -4.014369 -2.481152 -0.99966      0\n",
       "18821 -0.909070  0.355337 -0.217547 -3.99970      0\n",
       "24444  4.154418  1.002302 -1.932926  1.00026      0\n",
       "13384 -1.934507 -1.136655 -5.264570  0.50034      0\n",
       "23145 -0.102531 -5.321287  3.228528  3.50030      0\n",
       "7633   4.739405  2.002495 -2.743730  5.00026      1"
      ]
     },
     "execution_count": 19,
     "metadata": {},
     "output_type": "execute_result"
    }
   ],
   "source": [
    "x_train_input.head(10)"
   ]
  },
  {
   "cell_type": "code",
   "execution_count": 20,
   "metadata": {},
   "outputs": [],
   "source": [
    "df = x_train_input.copy()\n",
    "\n",
    "NON_LBL = [c for c in df.columns if c != 'label']\n",
    "X = df[NON_LBL]\n",
    "y = df['label']\n",
    "\n",
    "y_orig = y.copy()\n",
    "\n",
    "hidden_size = 3000\n",
    "y.loc[\n",
    "    np.random.choice(\n",
    "        y[y == 1].index, \n",
    "        replace = False, \n",
    "        size = hidden_size\n",
    "    )\n",
    "] = 0"
   ]
  },
  {
   "cell_type": "code",
   "execution_count": 21,
   "metadata": {},
   "outputs": [
    {
     "data": {
      "text/plain": [
       "0    18943\n",
       "1     5056\n",
       "Name: label, dtype: int64"
      ]
     },
     "execution_count": 21,
     "metadata": {},
     "output_type": "execute_result"
    }
   ],
   "source": [
    "pd.Series(y).value_counts()"
   ]
  },
  {
   "cell_type": "code",
   "execution_count": 22,
   "metadata": {},
   "outputs": [
    {
     "name": "stdout",
     "output_type": "stream",
     "text": [
      "- 23999 samples and 4 features\n",
      "- 10000 positive out of 29999 total before hiding labels\n",
      "- 5056 positive out of 23999 total after hiding labels\n"
     ]
    }
   ],
   "source": [
    "print('- %d samples and %d features' % (X.shape))\n",
    "print('- %d positive out of %d total before hiding labels' % (sum(df_raw.label), len(df_raw.label)))\n",
    "print('- %d positive out of %d total after hiding labels' % (sum(y), len(y)))"
   ]
  },
  {
   "cell_type": "markdown",
   "metadata": {},
   "source": [
    "# Trainning directly"
   ]
  },
  {
   "cell_type": "code",
   "execution_count": 23,
   "metadata": {},
   "outputs": [
    {
     "name": "stdout",
     "output_type": "stream",
     "text": [
      "              0         1         2        3\n",
      "27501 -3.474239  0.743583 -0.356013 -1.49974\n",
      "18921 -1.229484  3.998665 -2.121096 -0.99970\n",
      "2101  -1.754960 -3.000580  2.432413 -2.99966\n",
      "8480  -2.424130  2.116927  2.095761 -2.49974\n",
      "11552  3.424722 -4.014369 -2.481152 -0.99966\n",
      "...         ...       ...       ...      ...\n",
      "5699  -3.752648 -0.425980 -5.699665  2.50030\n",
      "10742  1.257826 -1.829516 -1.349350 -5.49966\n",
      "16921  1.011602  4.965950 -3.010981 -2.49970\n",
      "25796  1.335685  3.610419 -1.982630  2.50026\n",
      "28847 -5.711655  2.064096 -0.341325  0.00026\n",
      "\n",
      "[23999 rows x 4 columns]\n",
      "27501    0\n",
      "18921    0\n",
      "2101     1\n",
      "8480     0\n",
      "11552    0\n",
      "        ..\n",
      "5699     0\n",
      "10742    0\n",
      "16921    0\n",
      "25796    0\n",
      "28847    0\n",
      "Name: label, Length: 23999, dtype: int64\n"
     ]
    }
   ],
   "source": [
    "print(X)\n",
    "print(y)"
   ]
  },
  {
   "cell_type": "code",
   "execution_count": 24,
   "metadata": {},
   "outputs": [
    {
     "name": "stdout",
     "output_type": "stream",
     "text": [
      "Training MLP model ...\n",
      "Done\n"
     ]
    }
   ],
   "source": [
    "print('Training MLP model ...')\n",
    "\n",
    "from sklearn.neural_network import MLPClassifier\n",
    "\n",
    "model = MLPClassifier(solver='adam', alpha=1e-5,hidden_layer_sizes=(30,30), random_state=1,max_iter=200)\n",
    "\n",
    "model.fit(X, y)\n",
    "\n",
    "print('Done')"
   ]
  },
  {
   "cell_type": "code",
   "execution_count": 25,
   "metadata": {},
   "outputs": [
    {
     "data": {
      "text/plain": [
       "array([0, 0, 0, ..., 0, 0, 0])"
      ]
     },
     "execution_count": 25,
     "metadata": {},
     "output_type": "execute_result"
    }
   ],
   "source": [
    "model.predict(X)"
   ]
  },
  {
   "cell_type": "code",
   "execution_count": 26,
   "metadata": {},
   "outputs": [
    {
     "name": "stdout",
     "output_type": "stream",
     "text": [
      "---- MLP model ----\n",
      "                        pred_negative        pred_positive \n",
      "           true_negative      15943.0          0.0 \n",
      "           true_positive       8056.0          0.0 \n",
      "None\n",
      "\n",
      "Precision:  0.0\n",
      "Recall:  0.0\n",
      "Accuracy:  0.6643193466394434\n",
      "f1_score:  0.0\n"
     ]
    }
   ],
   "source": [
    "print('---- {} ----'.format('MLP model'))\n",
    "print(print_cm(sklearn.metrics.confusion_matrix(y_orig, model.predict(X)), labels=['negative', 'positive']))\n",
    "print('')\n",
    "print('Precision: ', precision_score(y_orig, model.predict(X)))\n",
    "print('Recall: ', recall_score(y_orig, model.predict(X)))\n",
    "print('Accuracy: ', accuracy_score(y_orig, model.predict(X)))\n",
    "print('f1_score: ', f1_score(y_orig, model.predict(X)))"
   ]
  },
  {
   "cell_type": "markdown",
   "metadata": {},
   "source": [
    "# Training by bagging"
   ]
  },
  {
   "cell_type": "code",
   "execution_count": 37,
   "metadata": {},
   "outputs": [],
   "source": [
    "from sklearn.linear_model import LogisticRegression\n",
    "model1 = LogisticRegression()\n",
    "\n",
    "from sklearn.tree import DecisionTreeClassifier\n",
    "model2 = DecisionTreeClassifier()\n",
    "\n",
    "from sklearn.neural_network import MLPClassifier\n",
    "model3 = MLPClassifier(solver='adam', alpha=1e-5,hidden_layer_sizes=(30, 30), random_state=1,max_iter=200)\n",
    "\n",
    "from sklearn import svm\n",
    "model4 = svm.LinearSVC()\n",
    "\n",
    "from sklearn.naive_bayes import GaussianNB\n",
    "model5 = GaussianNB()\n",
    "\n",
    "from sklearn.ensemble import RandomForestClassifier\n",
    "model6 = RandomForestClassifier(n_estimators = 50,n_jobs = -1)\n",
    "\n",
    "import xgboost as xgb\n",
    "model7 = xgb.XGBClassifier()"
   ]
  },
  {
   "cell_type": "code",
   "execution_count": 38,
   "metadata": {},
   "outputs": [],
   "source": [
    "model_list = [model1, model2, model3, model4, model5, model6, model7]\n",
    "f1 = np.zeros([len(model_list)],dtype=np.float32)"
   ]
  },
  {
   "cell_type": "code",
   "execution_count": 39,
   "metadata": {},
   "outputs": [
    {
     "name": "stdout",
     "output_type": "stream",
     "text": [
      "0.40587210748942526\n",
      "0.9893430290872617\n",
      "0.42676175283850987\n",
      "0.4055519625889259\n",
      "0.40912406984096106\n",
      "0.9627482422597755\n",
      "0.9988836516993301\n",
      "[0.4058721  0.98934305 0.42676175 0.40555197 0.40912408 0.9627482\n",
      " 0.99888366]\n"
     ]
    }
   ],
   "source": [
    "for i,j in zip(model_list,range(len(model_list))):\n",
    "    model = BaggingClassifierPU(i,\n",
    "                         n_estimators = 50, \n",
    "                         n_jobs = -1, \n",
    "                         max_samples = sum(y)  \n",
    "                        )\n",
    "    model.fit(X,y)\n",
    "    print(f1_score(y_orig, model.predict(X)))\n",
    "    f1[j] = f1_score(y_orig, model.predict(X))\n",
    "\n",
    "print(f1)"
   ]
  },
  {
   "cell_type": "code",
   "execution_count": 40,
   "metadata": {},
   "outputs": [
    {
     "name": "stdout",
     "output_type": "stream",
     "text": [
      "BaggingClassifierPU(base_estimator=XGBClassifier(base_score=None, booster=None,\n",
      "                                                 colsample_bylevel=None,\n",
      "                                                 colsample_bynode=None,\n",
      "                                                 colsample_bytree=None,\n",
      "                                                 gamma=None, gpu_id=None,\n",
      "                                                 importance_type='gain',\n",
      "                                                 interaction_constraints=None,\n",
      "                                                 learning_rate=None,\n",
      "                                                 max_delta_step=None,\n",
      "                                                 max_depth=None,\n",
      "                                                 min_child_weight=None,\n",
      "                                                 missing=nan,\n",
      "                                                 monotone_constraints=None,\n",
      "                                                 n_estimators=100...\n",
      "                                                 objective='binary:logistic',\n",
      "                                                 random_state=None,\n",
      "                                                 reg_alpha=None,\n",
      "                                                 reg_lambda=None,\n",
      "                                                 scale_pos_weight=None,\n",
      "                                                 subsample=None,\n",
      "                                                 tree_method=None,\n",
      "                                                 use_label_encoder=True,\n",
      "                                                 validate_parameters=None,\n",
      "                                                 verbosity=None),\n",
      "                    bootstrap=True, bootstrap_features=False, max_features=1.0,\n",
      "                    max_samples=5056, n_estimators=50, n_jobs=-1,\n",
      "                    oob_score=True, random_state=None, verbose=0,\n",
      "                    warm_start=False)\n"
     ]
    }
   ],
   "source": [
    "best_model = BaggingClassifierPU(model_list[np.argmax(f1)],\n",
    "                         n_estimators = 50, \n",
    "                         n_jobs = -1, \n",
    "                         max_samples = sum(y)  \n",
    "                        )\n",
    "best_model.fit(X,y)\n",
    "print(best_model)"
   ]
  },
  {
   "cell_type": "code",
   "execution_count": 41,
   "metadata": {},
   "outputs": [
    {
     "name": "stdout",
     "output_type": "stream",
     "text": [
      "Training bagging classifier...\n",
      "Done!\n",
      "Time: 7.44068001298001\n"
     ]
    }
   ],
   "source": [
    "print('Training bagging classifier...')\n",
    "pu_start = time.perf_counter()\n",
    "import xgboost as xgb\n",
    "model = BaggingClassifierPU(xgb.XGBClassifier(),\n",
    "                         n_jobs = -1, \n",
    "                         max_samples = sum(y)  \n",
    "                        )\n",
    "# model = BaggingClassifierPU(MLPClassifier(solver='adam', alpha=1e-5,hidden_layer_sizes=(50), random_state=1,max_iter=100000),\n",
    "#                          n_estimators = 50, \n",
    "#                          n_jobs = -1, \n",
    "#                          max_samples = sum(y)  \n",
    "#                         )\n",
    "model.fit(X, y)\n",
    "pu_end = time.perf_counter()\n",
    "print('Done!')\n",
    "print('Time:', pu_end - pu_start)"
   ]
  },
  {
   "cell_type": "code",
   "execution_count": 42,
   "metadata": {},
   "outputs": [
    {
     "name": "stdout",
     "output_type": "stream",
     "text": [
      "---- PU Bagging ----\n",
      "                        pred_negative        pred_positive \n",
      "           true_negative      15920.0         23.0 \n",
      "           true_positive          8.0       8048.0 \n",
      "None\n",
      "\n",
      "Precision:  0.9971502911659026\n",
      "Recall:  0.9990069513406157\n",
      "Accuracy:  0.9987082795116463\n",
      "f1_score:  0.9980777577974825\n"
     ]
    }
   ],
   "source": [
    "#train data\n",
    "print('---- {} ----'.format('PU Bagging'))\n",
    "print(print_cm(sklearn.metrics.confusion_matrix(y_orig, model.predict(X)), labels=['negative', 'positive']))\n",
    "print('')\n",
    "print('Precision: ', precision_score(y_orig, model.predict(X)))\n",
    "print('Recall: ', recall_score(y_orig, model.predict(X)))\n",
    "print('Accuracy: ', accuracy_score(y_orig, model.predict(X)))\n",
    "print('f1_score: ', f1_score(y_orig, model.predict(X)))"
   ]
  },
  {
   "cell_type": "code",
   "execution_count": 43,
   "metadata": {},
   "outputs": [
    {
     "name": "stdout",
     "output_type": "stream",
     "text": [
      "False Negtive:\n",
      "             0         1         2        3\n",
      "3166 -2.868250 -0.662669 -2.886869  6.00034\n",
      "4000 -1.494057 -0.644856  0.593257 -7.99970\n",
      "6366 -4.827429 -1.680675 -5.556191  4.00030\n",
      "7000 -0.747029 -0.322428  0.296629 -8.49974\n",
      "6136 -0.662846 -6.440129  1.444084  1.00030\n",
      "5206  2.395788 -4.286076  1.374684  1.00030\n",
      "3367  0.909070 -0.355337  0.217547 -7.99970\n",
      "3536  6.292972 -3.351700  0.405717 -1.99970\n",
      "False Positive:\n",
      "                  0             1             2        3\n",
      "23406  3.277532e-01  9.322669e-01  1.531547e-01 -7.99974\n",
      "16599 -4.897949e-01 -2.545016e-01 -6.673304e-01  8.50034\n",
      "29992  1.620417e-01 -6.777653e-01  5.141758e-01  8.50026\n",
      "16664 -8.385507e-01  1.219677e+00  8.995664e-01  8.00034\n",
      "23346 -3.240834e-01  1.355531e+00 -1.028352e+00 -7.99974\n",
      "15999  7.470285e-01  3.224281e-01 -2.966285e-01  8.50034\n",
      "16665 -4.192753e-01  6.098387e-01  4.497832e-01  8.50034\n",
      "23259 -3.277532e-01 -9.322669e-01 -1.531547e-01  8.00030\n",
      "23199 -9.795898e-01 -5.090031e-01 -1.334661e+00  8.00030\n",
      "10066  4.897949e-01  2.545016e-01  6.673304e-01 -8.49966\n",
      "16666 -1.756318e-11  2.342959e-13  4.491971e-12 -8.99970\n",
      "24006 -9.090702e-01  3.553371e-01 -2.175472e-01 -7.99974\n",
      "16652  3.240834e-01 -1.355531e+00  1.028352e+00  8.00034\n",
      "22659  9.090702e-01 -3.553371e-01  2.175472e-01  8.00030\n",
      "16659  1.620417e-01 -6.777653e-01  5.141758e-01  8.50034\n",
      "29998 -4.192753e-01  6.098387e-01  4.497832e-01  8.50026\n",
      "23466  9.795898e-01  5.090031e-01  1.334661e+00 -7.99974\n",
      "23325 -2.572336e-01 -6.792656e-02  9.639589e-01  8.00030\n",
      "24066 -2.572336e-01 -6.792656e-02  9.639589e-01 -7.99974\n",
      "22665  3.277532e-01  9.322669e-01  1.531547e-01  8.00030\n",
      "16733  4.897949e-01  2.545016e-01  6.673304e-01 -8.49970\n",
      "29932 -4.897949e-01 -2.545016e-01 -6.673304e-01  8.50026\n",
      "23333 -1.757945e-11  2.334606e-13  4.492245e-12 -8.99974\n"
     ]
    }
   ],
   "source": [
    "#print wrong predictions\n",
    "y_pre = model.predict(X)\n",
    "y_orig_index = y_orig.index.tolist()\n",
    "\n",
    "FN_index = []\n",
    "FT_index = []\n",
    "\n",
    "for i in range(len(y_orig)):\n",
    "    if y_orig.iloc[i] == 1 and y_pre[i] == 0 :\n",
    "        FN_index.append(y_orig_index[i])\n",
    "    if y_orig.iloc[i] == 0 and y_pre[i] == 1 :\n",
    "        FT_index.append(y_orig_index[i])\n",
    "        \n",
    "print(\"False Negtive:\")\n",
    "print(X.loc[FN_index])\n",
    "print(\"False Positive:\")\n",
    "print(X.loc[FT_index])"
   ]
  },
  {
   "cell_type": "code",
   "execution_count": 44,
   "metadata": {
    "scrolled": true
   },
   "outputs": [
    {
     "name": "stdout",
     "output_type": "stream",
     "text": [
      "---- PU Bagging ----\n",
      "                        pred_negative        pred_positive \n",
      "           true_negative       4047.0          9.0 \n",
      "           true_positive          2.0       1942.0 \n",
      "None\n",
      "\n",
      "Precision:  0.9953869810353665\n",
      "Recall:  0.9989711934156379\n",
      "Accuracy:  0.9981666666666666\n",
      "f1_score:  0.997175866495507\n"
     ]
    }
   ],
   "source": [
    "#test data\n",
    "print('---- {} ----'.format('PU Bagging'))\n",
    "print(print_cm(sklearn.metrics.confusion_matrix(y_test, model.predict(x_test)), labels=['negative', 'positive']))\n",
    "print('')\n",
    "print('Precision: ', precision_score(y_test, model.predict(x_test)))\n",
    "print('Recall: ', recall_score(y_test, model.predict(x_test)))\n",
    "print('Accuracy: ', accuracy_score(y_test, model.predict(x_test)))\n",
    "print('f1_score: ', f1_score(y_test, model.predict(x_test)))"
   ]
  },
  {
   "cell_type": "code",
   "execution_count": 45,
   "metadata": {},
   "outputs": [
    {
     "name": "stdout",
     "output_type": "stream",
     "text": [
      "False Negtive:\n",
      "             0         1         2        3\n",
      "3334  0.838551 -1.219677 -0.899566 -7.99970\n",
      "6667  0.419275 -0.609839 -0.449783 -8.49974\n",
      "False Positive:\n",
      "                  0             1             2        3\n",
      "23332  1.756393e-11 -2.334591e-13 -4.492901e-12  9.00030\n",
      "23340  2.572336e-01  6.792656e-02 -9.639589e-01 -7.99974\n",
      "24000 -3.277532e-01 -9.322669e-01 -1.531547e-01 -7.99974\n",
      "23331 -8.385507e-01  1.219677e+00  8.995664e-01  8.00030\n",
      "15992  9.090702e-01 -3.553371e-01  2.175472e-01  8.00034\n",
      "22599  2.572336e-01  6.792656e-02 -9.639589e-01  8.00030\n",
      "10006 -1.620417e-01  6.777653e-01 -5.141758e-01 -8.49966\n",
      "23319  3.240834e-01 -1.355531e+00  1.028352e+00  8.00030\n",
      "16673 -1.620417e-01  6.777653e-01 -5.141758e-01 -8.49970\n"
     ]
    }
   ],
   "source": [
    "#print wrong predictions\n",
    "y_test_pre = model.predict(x_test)\n",
    "y_test_index = y_test.index.tolist()\n",
    "\n",
    "FN_test_index = []\n",
    "FT_test_index = []\n",
    "\n",
    "for i in range(len(y_test)):\n",
    "    if y_test.iloc[i] == 1 and y_test_pre[i] == 0 :\n",
    "        FN_test_index.append(y_test_index[i])\n",
    "    if y_test.iloc[i] == 0 and y_test_pre[i] == 1 :\n",
    "        FT_test_index.append(y_test_index[i])\n",
    "\n",
    "print(\"False Negtive:\")\n",
    "print(x_test.loc[FN_test_index])\n",
    "print(\"False Positive:\")\n",
    "print(x_test.loc[FT_test_index])"
   ]
  },
  {
   "cell_type": "code",
   "execution_count": null,
   "metadata": {},
   "outputs": [],
   "source": []
  }
 ],
 "metadata": {
  "kernelspec": {
   "display_name": "Python 3",
   "language": "python",
   "name": "python3"
  },
  "language_info": {
   "codemirror_mode": {
    "name": "ipython",
    "version": 3
   },
   "file_extension": ".py",
   "mimetype": "text/x-python",
   "name": "python",
   "nbconvert_exporter": "python",
   "pygments_lexer": "ipython3",
   "version": "3.8.8"
  }
 },
 "nbformat": 4,
 "nbformat_minor": 4
}
