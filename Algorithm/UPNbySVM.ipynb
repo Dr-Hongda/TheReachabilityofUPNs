{
 "cells": [
  {
   "cell_type": "code",
   "execution_count": 1,
   "metadata": {},
   "outputs": [],
   "source": [
    "import time\n",
    "import sklearn\n",
    "import numpy as np\n",
    "import pandas as pd\n",
    "\n",
    "import sys\n",
    "sys.path.append(\"..\")\n",
    "from baggingPU import BaggingClassifierPU\n",
    "from sklearn.utils import resample\n",
    "from sklearn.model_selection import train_test_split\n",
    "from sklearn.metrics import accuracy_score, precision_score, recall_score, f1_score"
   ]
  },
  {
   "cell_type": "code",
   "execution_count": 2,
   "metadata": {},
   "outputs": [],
   "source": [
    "def print_cm(cm, labels, hide_zeroes=False, hide_diagonal=False, hide_threshold=None):\n",
    "    columnwidth = max([len(x) for x in labels]) + 4\n",
    "    empty_cell = \" \" * columnwidth\n",
    "    print(\"    \" + empty_cell, end=' ')\n",
    "    for label in labels:\n",
    "        print(\"%{0}s\".format(columnwidth) % 'pred_' + label, end=\" \")\n",
    "    print()\n",
    "\n",
    "    for i, label1 in enumerate(labels):\n",
    "        print(\"    %{0}s\".format(columnwidth) % 'true_' + label1, end=\" \")\n",
    "        for j in range(len(labels)):\n",
    "            cell = \"%{0}.1f\".format(columnwidth) % cm[i, j]\n",
    "            if hide_zeroes:\n",
    "                cell = cell if float(cm[i, j]) != 0 else empty_cell\n",
    "            if hide_diagonal:\n",
    "                cell = cell if i != j else empty_cell\n",
    "            if hide_threshold:\n",
    "                cell = cell if cm[i, j] > hide_threshold else empty_cell\n",
    "            if cell:\n",
    "                print(cell, end=\" \")\n",
    "        print()"
   ]
  },
  {
   "cell_type": "markdown",
   "metadata": {},
   "source": [
    "# import data"
   ]
  },
  {
   "cell_type": "code",
   "execution_count": 3,
   "metadata": {},
   "outputs": [
    {
     "name": "stdout",
     "output_type": "stream",
     "text": [
      "1    10000\n",
      "0    10000\n",
      "Name: label, dtype: int64\n",
      "Has null values False\n"
     ]
    }
   ],
   "source": [
    "#df_raw = pd.read_csv('../data/w-dependence.csv')\n",
    "\n",
    "#df_raw = pd.read_csv('../data/1place-dependence.csv')\n",
    "df_raw = pd.read_csv('../data/1-place2.csv')\n",
    "# df_raw = pd.read_csv('../data/w-related.csv')\n",
    "\n",
    "df_raw['label'] = df_raw['label'].astype(\"int\")\n",
    "print(df_raw.label.value_counts())\n",
    "print('Has null values', df_raw.isnull().values.any())"
   ]
  },
  {
   "cell_type": "code",
   "execution_count": 5,
   "metadata": {},
   "outputs": [
    {
     "data": {
      "text/html": [
       "<div>\n",
       "<style scoped>\n",
       "    .dataframe tbody tr th:only-of-type {\n",
       "        vertical-align: middle;\n",
       "    }\n",
       "\n",
       "    .dataframe tbody tr th {\n",
       "        vertical-align: top;\n",
       "    }\n",
       "\n",
       "    .dataframe thead th {\n",
       "        text-align: right;\n",
       "    }\n",
       "</style>\n",
       "<table border=\"1\" class=\"dataframe\">\n",
       "  <thead>\n",
       "    <tr style=\"text-align: right;\">\n",
       "      <th></th>\n",
       "      <th>p1</th>\n",
       "      <th>p2</th>\n",
       "      <th>label</th>\n",
       "    </tr>\n",
       "  </thead>\n",
       "  <tbody>\n",
       "    <tr>\n",
       "      <th>0</th>\n",
       "      <td>1</td>\n",
       "      <td>0</td>\n",
       "      <td>1</td>\n",
       "    </tr>\n",
       "    <tr>\n",
       "      <th>1</th>\n",
       "      <td>1</td>\n",
       "      <td>2</td>\n",
       "      <td>1</td>\n",
       "    </tr>\n",
       "    <tr>\n",
       "      <th>2</th>\n",
       "      <td>1</td>\n",
       "      <td>4</td>\n",
       "      <td>1</td>\n",
       "    </tr>\n",
       "    <tr>\n",
       "      <th>3</th>\n",
       "      <td>1</td>\n",
       "      <td>6</td>\n",
       "      <td>1</td>\n",
       "    </tr>\n",
       "    <tr>\n",
       "      <th>4</th>\n",
       "      <td>1</td>\n",
       "      <td>8</td>\n",
       "      <td>1</td>\n",
       "    </tr>\n",
       "    <tr>\n",
       "      <th>5</th>\n",
       "      <td>1</td>\n",
       "      <td>10</td>\n",
       "      <td>1</td>\n",
       "    </tr>\n",
       "    <tr>\n",
       "      <th>6</th>\n",
       "      <td>1</td>\n",
       "      <td>12</td>\n",
       "      <td>1</td>\n",
       "    </tr>\n",
       "    <tr>\n",
       "      <th>7</th>\n",
       "      <td>1</td>\n",
       "      <td>14</td>\n",
       "      <td>1</td>\n",
       "    </tr>\n",
       "    <tr>\n",
       "      <th>8</th>\n",
       "      <td>1</td>\n",
       "      <td>16</td>\n",
       "      <td>1</td>\n",
       "    </tr>\n",
       "    <tr>\n",
       "      <th>9</th>\n",
       "      <td>1</td>\n",
       "      <td>18</td>\n",
       "      <td>1</td>\n",
       "    </tr>\n",
       "  </tbody>\n",
       "</table>\n",
       "</div>"
      ],
      "text/plain": [
       "   p1  p2  label\n",
       "0   1   0      1\n",
       "1   1   2      1\n",
       "2   1   4      1\n",
       "3   1   6      1\n",
       "4   1   8      1\n",
       "5   1  10      1\n",
       "6   1  12      1\n",
       "7   1  14      1\n",
       "8   1  16      1\n",
       "9   1  18      1"
      ]
     },
     "execution_count": 5,
     "metadata": {},
     "output_type": "execute_result"
    }
   ],
   "source": [
    "df_raw.head(10)"
   ]
  },
  {
   "cell_type": "code",
   "execution_count": 6,
   "metadata": {},
   "outputs": [],
   "source": [
    "def random_undersampling(tmp_df, TARGET_LABEL):\n",
    "    df_majority = tmp_df[tmp_df[TARGET_LABEL] == 0]\n",
    "    df_minority = tmp_df[tmp_df[TARGET_LABEL] == 1]\n",
    "\n",
    "    df_majority_downsampled = resample(df_majority, \n",
    "                                       replace=False,              \n",
    "                                       n_samples=len(df_minority), \n",
    "                                       random_state=None)        \n",
    "\n",
    "    df_downsampled = pd.concat([df_majority_downsampled, df_minority])\n",
    "\n",
    "    print(\"Undersampling complete!\")\n",
    "    print(df_downsampled[TARGET_LABEL].value_counts())\n",
    "    return df_downsampled"
   ]
  },
  {
   "cell_type": "code",
   "execution_count": 7,
   "metadata": {},
   "outputs": [
    {
     "name": "stdout",
     "output_type": "stream",
     "text": [
      "Undersampling complete!\n",
      "1    10000\n",
      "0    10000\n",
      "Name: label, dtype: int64\n"
     ]
    }
   ],
   "source": [
    "df_downsampled = random_undersampling(df_raw, 'label')\n",
    "df_downsampled = df_downsampled.sample(frac=1) \n",
    "df_downsampled = df_downsampled.reset_index() \n",
    "df_downsampled = df_downsampled.drop(columns=['index']) "
   ]
  },
  {
   "cell_type": "code",
   "execution_count": 8,
   "metadata": {},
   "outputs": [
    {
     "data": {
      "text/html": [
       "<div>\n",
       "<style scoped>\n",
       "    .dataframe tbody tr th:only-of-type {\n",
       "        vertical-align: middle;\n",
       "    }\n",
       "\n",
       "    .dataframe tbody tr th {\n",
       "        vertical-align: top;\n",
       "    }\n",
       "\n",
       "    .dataframe thead th {\n",
       "        text-align: right;\n",
       "    }\n",
       "</style>\n",
       "<table border=\"1\" class=\"dataframe\">\n",
       "  <thead>\n",
       "    <tr style=\"text-align: right;\">\n",
       "      <th></th>\n",
       "      <th>p1</th>\n",
       "      <th>p2</th>\n",
       "      <th>label</th>\n",
       "    </tr>\n",
       "  </thead>\n",
       "  <tbody>\n",
       "    <tr>\n",
       "      <th>0</th>\n",
       "      <td>1</td>\n",
       "      <td>7084</td>\n",
       "      <td>1</td>\n",
       "    </tr>\n",
       "    <tr>\n",
       "      <th>1</th>\n",
       "      <td>1</td>\n",
       "      <td>13700</td>\n",
       "      <td>1</td>\n",
       "    </tr>\n",
       "    <tr>\n",
       "      <th>2</th>\n",
       "      <td>1</td>\n",
       "      <td>16926</td>\n",
       "      <td>1</td>\n",
       "    </tr>\n",
       "    <tr>\n",
       "      <th>3</th>\n",
       "      <td>1</td>\n",
       "      <td>3331</td>\n",
       "      <td>0</td>\n",
       "    </tr>\n",
       "    <tr>\n",
       "      <th>4</th>\n",
       "      <td>1</td>\n",
       "      <td>17023</td>\n",
       "      <td>0</td>\n",
       "    </tr>\n",
       "    <tr>\n",
       "      <th>5</th>\n",
       "      <td>1</td>\n",
       "      <td>9803</td>\n",
       "      <td>0</td>\n",
       "    </tr>\n",
       "    <tr>\n",
       "      <th>6</th>\n",
       "      <td>1</td>\n",
       "      <td>1926</td>\n",
       "      <td>1</td>\n",
       "    </tr>\n",
       "    <tr>\n",
       "      <th>7</th>\n",
       "      <td>1</td>\n",
       "      <td>19994</td>\n",
       "      <td>1</td>\n",
       "    </tr>\n",
       "    <tr>\n",
       "      <th>8</th>\n",
       "      <td>1</td>\n",
       "      <td>17975</td>\n",
       "      <td>0</td>\n",
       "    </tr>\n",
       "    <tr>\n",
       "      <th>9</th>\n",
       "      <td>1</td>\n",
       "      <td>10328</td>\n",
       "      <td>1</td>\n",
       "    </tr>\n",
       "  </tbody>\n",
       "</table>\n",
       "</div>"
      ],
      "text/plain": [
       "   p1     p2  label\n",
       "0   1   7084      1\n",
       "1   1  13700      1\n",
       "2   1  16926      1\n",
       "3   1   3331      0\n",
       "4   1  17023      0\n",
       "5   1   9803      0\n",
       "6   1   1926      1\n",
       "7   1  19994      1\n",
       "8   1  17975      0\n",
       "9   1  10328      1"
      ]
     },
     "execution_count": 8,
     "metadata": {},
     "output_type": "execute_result"
    }
   ],
   "source": [
    "df_downsampled.head(10)"
   ]
  },
  {
   "cell_type": "code",
   "execution_count": 9,
   "metadata": {},
   "outputs": [
    {
     "name": "stdout",
     "output_type": "stream",
     "text": [
      "16000\n",
      "4000\n",
      "1    8077\n",
      "0    7923\n",
      "Name: label, dtype: int64\n",
      "Has null values False\n",
      "0    2077\n",
      "1    1923\n",
      "Name: label, dtype: int64\n",
      "Has null values False\n"
     ]
    }
   ],
   "source": [
    "x_data = df_raw.iloc[:,:-1]\n",
    "y_data = df_raw.iloc[:,-1]\n",
    "\n",
    "x_train, x_test, y_train, y_test = train_test_split(x_data, y_data, test_size=0.2, random_state=7)\n",
    "\n",
    "x_train_input = pd.concat([x_train,y_train],axis=1)\n",
    "x_test_input = pd.concat([x_test,y_test],axis=1)\n",
    "\n",
    "print(len(x_train_input))\n",
    "print(len(x_test_input))\n",
    "\n",
    "print(x_train_input.label.value_counts())\n",
    "print('Has null values', x_train_input.isnull().values.any())\n",
    "\n",
    "print(x_test_input.label.value_counts())\n",
    "print('Has null values', x_test_input.isnull().values.any())"
   ]
  },
  {
   "cell_type": "code",
   "execution_count": 10,
   "metadata": {},
   "outputs": [
    {
     "data": {
      "text/html": [
       "<div>\n",
       "<style scoped>\n",
       "    .dataframe tbody tr th:only-of-type {\n",
       "        vertical-align: middle;\n",
       "    }\n",
       "\n",
       "    .dataframe tbody tr th {\n",
       "        vertical-align: top;\n",
       "    }\n",
       "\n",
       "    .dataframe thead th {\n",
       "        text-align: right;\n",
       "    }\n",
       "</style>\n",
       "<table border=\"1\" class=\"dataframe\">\n",
       "  <thead>\n",
       "    <tr style=\"text-align: right;\">\n",
       "      <th></th>\n",
       "      <th>p1</th>\n",
       "      <th>p2</th>\n",
       "      <th>label</th>\n",
       "    </tr>\n",
       "  </thead>\n",
       "  <tbody>\n",
       "    <tr>\n",
       "      <th>8118</th>\n",
       "      <td>1</td>\n",
       "      <td>16236</td>\n",
       "      <td>1</td>\n",
       "    </tr>\n",
       "    <tr>\n",
       "      <th>10171</th>\n",
       "      <td>1</td>\n",
       "      <td>343</td>\n",
       "      <td>0</td>\n",
       "    </tr>\n",
       "    <tr>\n",
       "      <th>9399</th>\n",
       "      <td>1</td>\n",
       "      <td>18798</td>\n",
       "      <td>1</td>\n",
       "    </tr>\n",
       "    <tr>\n",
       "      <th>12669</th>\n",
       "      <td>1</td>\n",
       "      <td>5339</td>\n",
       "      <td>0</td>\n",
       "    </tr>\n",
       "    <tr>\n",
       "      <th>18809</th>\n",
       "      <td>1</td>\n",
       "      <td>17619</td>\n",
       "      <td>0</td>\n",
       "    </tr>\n",
       "    <tr>\n",
       "      <th>13869</th>\n",
       "      <td>1</td>\n",
       "      <td>7739</td>\n",
       "      <td>0</td>\n",
       "    </tr>\n",
       "    <tr>\n",
       "      <th>3320</th>\n",
       "      <td>1</td>\n",
       "      <td>6640</td>\n",
       "      <td>1</td>\n",
       "    </tr>\n",
       "    <tr>\n",
       "      <th>14689</th>\n",
       "      <td>1</td>\n",
       "      <td>9379</td>\n",
       "      <td>0</td>\n",
       "    </tr>\n",
       "    <tr>\n",
       "      <th>13087</th>\n",
       "      <td>1</td>\n",
       "      <td>6175</td>\n",
       "      <td>0</td>\n",
       "    </tr>\n",
       "    <tr>\n",
       "      <th>15992</th>\n",
       "      <td>1</td>\n",
       "      <td>11985</td>\n",
       "      <td>0</td>\n",
       "    </tr>\n",
       "  </tbody>\n",
       "</table>\n",
       "</div>"
      ],
      "text/plain": [
       "       p1     p2  label\n",
       "8118    1  16236      1\n",
       "10171   1    343      0\n",
       "9399    1  18798      1\n",
       "12669   1   5339      0\n",
       "18809   1  17619      0\n",
       "13869   1   7739      0\n",
       "3320    1   6640      1\n",
       "14689   1   9379      0\n",
       "13087   1   6175      0\n",
       "15992   1  11985      0"
      ]
     },
     "execution_count": 10,
     "metadata": {},
     "output_type": "execute_result"
    }
   ],
   "source": [
    "x_train_input.head(10)"
   ]
  },
  {
   "cell_type": "code",
   "execution_count": 11,
   "metadata": {},
   "outputs": [],
   "source": [
    "df = x_train_input.copy()\n",
    "\n",
    "NON_LBL = [c for c in df.columns if c != 'label']\n",
    "X = df[NON_LBL]\n",
    "y = df['label']\n",
    "\n",
    "y_orig = y.copy()\n",
    "\n",
    "hidden_size = 5000\n",
    "y.loc[\n",
    "    np.random.choice(\n",
    "        y[y == 1].index, \n",
    "        replace = False, \n",
    "        size = hidden_size\n",
    "    )\n",
    "] = 0"
   ]
  },
  {
   "cell_type": "code",
   "execution_count": 12,
   "metadata": {},
   "outputs": [
    {
     "data": {
      "text/plain": [
       "0    12923\n",
       "1     3077\n",
       "Name: label, dtype: int64"
      ]
     },
     "execution_count": 12,
     "metadata": {},
     "output_type": "execute_result"
    }
   ],
   "source": [
    "pd.Series(y).value_counts()"
   ]
  },
  {
   "cell_type": "code",
   "execution_count": 13,
   "metadata": {
    "scrolled": true
   },
   "outputs": [
    {
     "name": "stdout",
     "output_type": "stream",
     "text": [
      "- 16000 samples and 2 features\n",
      "- 10000 positive out of 20000 total before hiding labels\n",
      "- 3077 positive out of 16000 total after hiding labels\n"
     ]
    }
   ],
   "source": [
    "print('- %d samples and %d features' % (X.shape))\n",
    "print('- %d positive out of %d total before hiding labels' % (sum(df_downsampled.label), len(df_downsampled.label)))\n",
    "print('- %d positive out of %d total after hiding labels' % (sum(y), len(y)))"
   ]
  },
  {
   "cell_type": "markdown",
   "metadata": {},
   "source": [
    "# Trainning directly"
   ]
  },
  {
   "cell_type": "code",
   "execution_count": 16,
   "metadata": {},
   "outputs": [
    {
     "name": "stdout",
     "output_type": "stream",
     "text": [
      "Training SVM model ...\n",
      "Done\n"
     ]
    }
   ],
   "source": [
    "print('Training SVM model ...')\n",
    "\n",
    "from sklearn import svm\n",
    "\n",
    "model = svm.SVC(kernel='rbf')\n",
    "\n",
    "model.fit(X, y)\n",
    "\n",
    "print('Done')"
   ]
  },
  {
   "cell_type": "code",
   "execution_count": 17,
   "metadata": {
    "scrolled": true
   },
   "outputs": [
    {
     "name": "stdout",
     "output_type": "stream",
     "text": [
      "---- SVM ----\n",
      "                        pred_negative        pred_positive \n",
      "           true_negative       7923.0          0.0 \n",
      "           true_positive       8077.0          0.0 \n",
      "None\n",
      "\n",
      "Precision:  0.0\n",
      "Recall:  0.0\n",
      "Accuracy:  0.4951875\n",
      "f1_score:  0.0\n"
     ]
    }
   ],
   "source": [
    "print('---- {} ----'.format('SVM'))\n",
    "print(print_cm(sklearn.metrics.confusion_matrix(y_orig, model.predict(X)), labels=['negative', 'positive']))\n",
    "print('')\n",
    "print('Precision: ', precision_score(y_orig, model.predict(X)))\n",
    "print('Recall: ', recall_score(y_orig, model.predict(X)))\n",
    "print('Accuracy: ', accuracy_score(y_orig, model.predict(X)))\n",
    "print('f1_score: ', f1_score(y_orig, model.predict(X)))"
   ]
  },
  {
   "cell_type": "markdown",
   "metadata": {},
   "source": [
    "# Training by bagging"
   ]
  },
  {
   "cell_type": "code",
   "execution_count": 18,
   "metadata": {},
   "outputs": [
    {
     "name": "stdout",
     "output_type": "stream",
     "text": [
      "Training bagging classifier...\n",
      "Done!\n",
      "Time: 136.36012683099398\n"
     ]
    }
   ],
   "source": [
    "print('Training bagging classifier...')\n",
    "\n",
    "pu_start = time.perf_counter()\n",
    "model = BaggingClassifierPU(svm.SVC(kernel='rbf'),\n",
    "                         n_estimators = 50, \n",
    "                         n_jobs = -1, \n",
    "                         max_samples = sum(y)\n",
    "                        )\n",
    "model.fit(X, y)\n",
    "pu_end = time.perf_counter()\n",
    "print('Done!')\n",
    "print('Time:', pu_end - pu_start)"
   ]
  },
  {
   "cell_type": "code",
   "execution_count": 19,
   "metadata": {},
   "outputs": [
    {
     "name": "stdout",
     "output_type": "stream",
     "text": [
      "---- PU Bagging ----\n",
      "                        pred_negative        pred_positive \n",
      "           true_negative       3518.0       4405.0 \n",
      "           true_positive       3504.0       4573.0 \n",
      "None\n",
      "\n",
      "Precision:  0.5093562040543551\n",
      "Recall:  0.5661755602327597\n",
      "Accuracy:  0.5056875\n",
      "f1_score:  0.5362650249193786\n"
     ]
    }
   ],
   "source": [
    "#train data\n",
    "print('---- {} ----'.format('PU Bagging'))\n",
    "print(print_cm(sklearn.metrics.confusion_matrix(y_orig, model.predict(X)), labels=['negative', 'positive']))\n",
    "print('')\n",
    "print('Precision: ', precision_score(y_orig, model.predict(X)))\n",
    "print('Recall: ', recall_score(y_orig, model.predict(X)))\n",
    "print('Accuracy: ', accuracy_score(y_orig, model.predict(X)))\n",
    "print('f1_score: ', f1_score(y_orig, model.predict(X)))"
   ]
  },
  {
   "cell_type": "code",
   "execution_count": 62,
   "metadata": {},
   "outputs": [
    {
     "name": "stdout",
     "output_type": "stream",
     "text": [
      "False Negtive:\n",
      "Empty DataFrame\n",
      "Columns: [p1, p2, p3, p4, p5, p6, p7, p8]\n",
      "Index: []\n",
      "False Positive:\n",
      "Empty DataFrame\n",
      "Columns: [p1, p2, p3, p4, p5, p6, p7, p8]\n",
      "Index: []\n"
     ]
    }
   ],
   "source": [
    "#print wrong predictions\n",
    "y_pre = model.predict(X)\n",
    "y_orig_index = y_orig.index.tolist()\n",
    "\n",
    "FN_index = []\n",
    "FT_index = []\n",
    "\n",
    "for i in range(len(y_orig)):\n",
    "    if y_orig.iloc[i] == 1 and y_pre[i] == 0 :\n",
    "        FN_index.append(y_orig_index[i])\n",
    "    if y_orig.iloc[i] == 0 and y_pre[i] == 1 :\n",
    "        FT_index.append(y_orig_index[i])\n",
    "        \n",
    "print(\"False Negtive:\")\n",
    "print(X.loc[FN_index])\n",
    "print(\"False Positive:\")\n",
    "print(X.loc[FT_index])"
   ]
  },
  {
   "cell_type": "code",
   "execution_count": 63,
   "metadata": {},
   "outputs": [
    {
     "name": "stdout",
     "output_type": "stream",
     "text": [
      "---- PU Bagging ----\n",
      "                        pred_negative        pred_positive \n",
      "           true_negative       2077.0          0.0 \n",
      "           true_positive          0.0       1923.0 \n",
      "None\n",
      "\n",
      "Precision:  1.0\n",
      "Recall:  1.0\n",
      "Accuracy:  1.0\n",
      "f1_score:  1.0\n"
     ]
    }
   ],
   "source": [
    "#test data\n",
    "print('---- {} ----'.format('PU Bagging'))\n",
    "print(print_cm(sklearn.metrics.confusion_matrix(y_test, model.predict(x_test)), labels=['negative', 'positive']))\n",
    "print('')\n",
    "print('Precision: ', precision_score(y_test, model.predict(x_test)))\n",
    "print('Recall: ', recall_score(y_test, model.predict(x_test)))\n",
    "print('Accuracy: ', accuracy_score(y_test, model.predict(x_test)))\n",
    "print('f1_score: ', f1_score(y_test, model.predict(x_test)))"
   ]
  },
  {
   "cell_type": "code",
   "execution_count": 64,
   "metadata": {},
   "outputs": [
    {
     "name": "stdout",
     "output_type": "stream",
     "text": [
      "False Negtive:\n",
      "Empty DataFrame\n",
      "Columns: [p1, p2, p3, p4, p5, p6, p7, p8]\n",
      "Index: []\n",
      "False Positive:\n",
      "Empty DataFrame\n",
      "Columns: [p1, p2, p3, p4, p5, p6, p7, p8]\n",
      "Index: []\n"
     ]
    }
   ],
   "source": [
    "#print wrong predictions\n",
    "y_test_pre = model.predict(x_test)\n",
    "y_test_index = y_test.index.tolist()\n",
    "\n",
    "FN_test_index = []\n",
    "FT_test_index = []\n",
    "\n",
    "for i in range(len(y_test)):\n",
    "    if y_test.iloc[i] == 1 and y_test_pre[i] == 0 :\n",
    "        FN_test_index.append(y_test_index[i])\n",
    "    if y_test.iloc[i] == 0 and y_test_pre[i] == 1 :\n",
    "        FT_test_index.append(y_test_index[i])\n",
    "\n",
    "print(\"False Negtive:\")\n",
    "print(x_test.loc[FN_test_index])\n",
    "print(\"False Positive:\")\n",
    "print(x_test.loc[FT_test_index])"
   ]
  },
  {
   "cell_type": "code",
   "execution_count": 65,
   "metadata": {},
   "outputs": [
    {
     "name": "stdout",
     "output_type": "stream",
     "text": [
      "1    5000\n",
      "Name: label, dtype: int64\n",
      "Has null values False\n"
     ]
    }
   ],
   "source": [
    "a = pd.read_csv('../data/wdepenpos5000.csv')\n",
    "\n",
    "a['label'] = a['label'].astype(\"int\")\n",
    "print(a.label.value_counts())\n",
    "print('Has null values', a.isnull().values.any())"
   ]
  },
  {
   "cell_type": "code",
   "execution_count": 66,
   "metadata": {},
   "outputs": [
    {
     "name": "stdout",
     "output_type": "stream",
     "text": [
      "      p1  p2     p3  p4  p5    p6  p7  p8\n",
      "0      1   0  18277   0   0  9751   1   0\n",
      "1      1   0  18946   0   0  7585   1   0\n",
      "2      1   1  19359   0   0  3291   0   0\n",
      "3      1   0  14894   0   1  3736   0   0\n",
      "4      1   0  16136   1   0  4114   0   0\n",
      "...   ..  ..    ...  ..  ..   ...  ..  ..\n",
      "4995   2   0  17813   0   0  5727   0   0\n",
      "4996   1   0  16953   1   0  9351   0   0\n",
      "4997   2   0  15887   0   0  2023   0   0\n",
      "4998   1   1  13187   0   0  7671   0   0\n",
      "4999   1   0  18488   0   0  2968   1   0\n",
      "\n",
      "[5000 rows x 8 columns]\n",
      "0       0\n",
      "1       0\n",
      "2       0\n",
      "3       0\n",
      "4       0\n",
      "       ..\n",
      "4995    0\n",
      "4996    0\n",
      "4997    0\n",
      "4998    0\n",
      "4999    0\n",
      "Name: label, Length: 5000, dtype: int64\n"
     ]
    }
   ],
   "source": [
    "x_data = a.iloc[:,:-1]\n",
    "\n",
    "x_data['p3'] += 10000\n",
    "x_data['p1'] += 1\n",
    "\n",
    "y_data = a.iloc[:,-1]\n",
    "y_data[:] = 0\n",
    "\n",
    "print(x_data)\n",
    "print(y_data)"
   ]
  },
  {
   "cell_type": "code",
   "execution_count": 67,
   "metadata": {},
   "outputs": [
    {
     "name": "stdout",
     "output_type": "stream",
     "text": [
      "---- PU Bagging ----\n",
      "\n",
      "Precision:  0.0\n",
      "Recall:  0.0\n",
      "Accuracy:  0.0\n",
      "f1_score:  0.0\n"
     ]
    }
   ],
   "source": [
    "print('---- {} ----'.format('PU Bagging'))\n",
    "#print(print_cm(sklearn.metrics.confusion_matrix(y_data, model.predict(x_data)), labels=['negative', 'positive']))\n",
    "print('')\n",
    "print('Precision: ', precision_score(y_data, model.predict(x_data)))\n",
    "print('Recall: ', recall_score(y_data, model.predict(x_data)))\n",
    "print('Accuracy: ', accuracy_score(y_data, model.predict(x_data)))\n",
    "print('f1_score: ', f1_score(y_data, model.predict(x_data)))"
   ]
  },
  {
   "cell_type": "code",
   "execution_count": 68,
   "metadata": {},
   "outputs": [
    {
     "name": "stdout",
     "output_type": "stream",
     "text": [
      "False Negtive:\n",
      "Empty DataFrame\n",
      "Columns: [p1, p2, p3, p4, p5, p6, p7, p8]\n",
      "Index: []\n",
      "False Positive:\n",
      "      p1  p2     p3  p4  p5    p6  p7  p8\n",
      "0      1   0  18277   0   0  9751   1   0\n",
      "1      1   0  18946   0   0  7585   1   0\n",
      "2      1   1  19359   0   0  3291   0   0\n",
      "3      1   0  14894   0   1  3736   0   0\n",
      "4      1   0  16136   1   0  4114   0   0\n",
      "...   ..  ..    ...  ..  ..   ...  ..  ..\n",
      "4995   2   0  17813   0   0  5727   0   0\n",
      "4996   1   0  16953   1   0  9351   0   0\n",
      "4997   2   0  15887   0   0  2023   0   0\n",
      "4998   1   1  13187   0   0  7671   0   0\n",
      "4999   1   0  18488   0   0  2968   1   0\n",
      "\n",
      "[5000 rows x 8 columns]\n"
     ]
    }
   ],
   "source": [
    "#print wrong predictions\n",
    "y_data_pre = model.predict(x_data)\n",
    "y_data_index = y_data.index.tolist()\n",
    "\n",
    "FN_data_index = []\n",
    "FT_data_index = []\n",
    "\n",
    "for i in range(len(y_data)):\n",
    "    if y_data.iloc[i] == 1 and y_data_pre[i] == 0 :\n",
    "        FN_data_index.append(y_data_index[i])\n",
    "    if y_data.iloc[i] == 0 and y_data_pre[i] == 1 :\n",
    "        FT_data_index.append(y_data_index[i])\n",
    "\n",
    "print(\"False Negtive:\")\n",
    "print(x_data.loc[FN_data_index])\n",
    "print(\"False Positive:\")\n",
    "print(x_data.loc[FT_data_index])"
   ]
  }
 ],
 "metadata": {
  "kernelspec": {
   "display_name": "Python 3",
   "language": "python",
   "name": "python3"
  },
  "language_info": {
   "codemirror_mode": {
    "name": "ipython",
    "version": 3
   },
   "file_extension": ".py",
   "mimetype": "text/x-python",
   "name": "python",
   "nbconvert_exporter": "python",
   "pygments_lexer": "ipython3",
   "version": "3.8.3"
  }
 },
 "nbformat": 4,
 "nbformat_minor": 1
}
